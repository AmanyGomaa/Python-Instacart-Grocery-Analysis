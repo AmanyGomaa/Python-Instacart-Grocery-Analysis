{
 "cells": [
  {
   "cell_type": "markdown",
   "id": "925f9cec",
   "metadata": {},
   "source": [
    "#import libraries"
   ]
  },
  {
   "cell_type": "code",
   "execution_count": 1,
   "id": "475ad2d3",
   "metadata": {},
   "outputs": [],
   "source": [
    "import pandas as pd\n",
    "import numpy as np\n",
    "import os"
   ]
  },
  {
   "cell_type": "markdown",
   "id": "27479b2e",
   "metadata": {},
   "source": [
    "#Working with Python Data Types"
   ]
  },
  {
   "cell_type": "code",
   "execution_count": 2,
   "id": "dc517a58",
   "metadata": {},
   "outputs": [
    {
     "name": "stdout",
     "output_type": "stream",
     "text": [
      "100\n"
     ]
    }
   ],
   "source": [
    "a=50\n",
    "b=50\n",
    "print (a+b)"
   ]
  },
  {
   "cell_type": "code",
   "execution_count": 3,
   "id": "b8aacf3c",
   "metadata": {},
   "outputs": [
    {
     "name": "stdout",
     "output_type": "stream",
     "text": [
      "100\n"
     ]
    }
   ],
   "source": [
    "a=120\n",
    "b=20\n",
    "print (a-b)"
   ]
  },
  {
   "cell_type": "code",
   "execution_count": 4,
   "id": "49e90cbe",
   "metadata": {},
   "outputs": [
    {
     "name": "stdout",
     "output_type": "stream",
     "text": [
      "100\n"
     ]
    }
   ],
   "source": [
    "a=25\n",
    "b=4\n",
    "print (a*b)"
   ]
  },
  {
   "cell_type": "code",
   "execution_count": 5,
   "id": "478ae2cb",
   "metadata": {},
   "outputs": [
    {
     "name": "stdout",
     "output_type": "stream",
     "text": [
      "5.0\n"
     ]
    }
   ],
   "source": [
    "a=12.5\n",
    "b=2.5\n",
    "print (a/b) "
   ]
  },
  {
   "cell_type": "code",
   "execution_count": 7,
   "id": "fbc5ffbb",
   "metadata": {},
   "outputs": [
    {
     "name": "stdout",
     "output_type": "stream",
     "text": [
      "CONGRATULATION\n"
     ]
    }
   ],
   "source": [
    "a='CON'\n",
    "b='GRA'\n",
    "c='TUL'\n",
    "d='ATION'\n",
    "print (a+b+c+d)"
   ]
  },
  {
   "cell_type": "code",
   "execution_count": 11,
   "id": "0816a348",
   "metadata": {},
   "outputs": [
    {
     "name": "stdout",
     "output_type": "stream",
     "text": [
      "I am Amani Abdelwahab\n",
      "i love python\n"
     ]
    }
   ],
   "source": [
    "a='I am'\n",
    "b=' Amani'\n",
    "c=' Abdelwahab'\n",
    "d='i'\n",
    "e=' love'\n",
    "f=' python'\n",
    "print (a+b+c)\n",
    "print (d+e+f)"
   ]
  }
 ],
 "metadata": {
  "kernelspec": {
   "display_name": "Python 3 (ipykernel)",
   "language": "python",
   "name": "python3"
  },
  "language_info": {
   "codemirror_mode": {
    "name": "ipython",
    "version": 3
   },
   "file_extension": ".py",
   "mimetype": "text/x-python",
   "name": "python",
   "nbconvert_exporter": "python",
   "pygments_lexer": "ipython3",
   "version": "3.9.12"
  }
 },
 "nbformat": 4,
 "nbformat_minor": 5
}
