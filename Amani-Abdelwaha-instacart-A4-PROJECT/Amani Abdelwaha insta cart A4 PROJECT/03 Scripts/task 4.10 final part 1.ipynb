{
 "cells": [
  {
   "cell_type": "markdown",
   "id": "7f72d8bb",
   "metadata": {},
   "source": [
    "## importing libraries"
   ]
  },
  {
   "cell_type": "code",
   "execution_count": 1,
   "id": "bd707fd6",
   "metadata": {},
   "outputs": [],
   "source": [
    "# import Libraries\n",
    "import pandas as pd\n",
    "import numpy as np\n",
    "import os\n",
    "import matplotlib.pyplot as plt\n",
    "import seaborn as sns\n",
    "import scipy"
   ]
  },
  {
   "cell_type": "markdown",
   "id": "d89855cb",
   "metadata": {},
   "source": [
    "### 1. importing dataframe"
   ]
  },
  {
   "cell_type": "code",
   "execution_count": 2,
   "id": "920fda15",
   "metadata": {},
   "outputs": [],
   "source": [
    "# import dataframe\n",
    "ords_prods_cust_merged = pd.read_pickle(r'C:\\Users\\amany\\A4-Instacart Basket Analysis\\02 Data\\prepared data\\ords_prods_cust_merged.pkl')\n",
    "filtered_orders_products_customers= pd.read_pickle(r'C:\\Users\\amany\\A4-Instacart Basket Analysis\\02 Data\\prepared data\\filtered_orders_products_customers.pkl')\n"
   ]
  },
  {
   "cell_type": "code",
   "execution_count": 3,
   "id": "e450bb6f",
   "metadata": {},
   "outputs": [
    {
     "data": {
      "text/plain": [
       "(30992010, 37)"
      ]
     },
     "execution_count": 3,
     "metadata": {},
     "output_type": "execute_result"
    }
   ],
   "source": [
    "filtered_orders_products_customers.shape"
   ]
  },
  {
   "cell_type": "code",
   "execution_count": 4,
   "id": "4f67a7f4",
   "metadata": {},
   "outputs": [
    {
     "data": {
      "text/html": [
       "<div>\n",
       "<style scoped>\n",
       "    .dataframe tbody tr th:only-of-type {\n",
       "        vertical-align: middle;\n",
       "    }\n",
       "\n",
       "    .dataframe tbody tr th {\n",
       "        vertical-align: top;\n",
       "    }\n",
       "\n",
       "    .dataframe thead th {\n",
       "        text-align: right;\n",
       "    }\n",
       "</style>\n",
       "<table border=\"1\" class=\"dataframe\">\n",
       "  <thead>\n",
       "    <tr style=\"text-align: right;\">\n",
       "      <th></th>\n",
       "      <th>order_id</th>\n",
       "      <th>user_id</th>\n",
       "      <th>eval_set</th>\n",
       "      <th>order_number</th>\n",
       "      <th>orders_day_of_week</th>\n",
       "      <th>order_hour_of_day</th>\n",
       "      <th>days_since_prior_order</th>\n",
       "      <th>product_id</th>\n",
       "      <th>add_to_cart_order</th>\n",
       "      <th>reordered</th>\n",
       "      <th>...</th>\n",
       "      <th>First Name</th>\n",
       "      <th>Last Name</th>\n",
       "      <th>Gender</th>\n",
       "      <th>State</th>\n",
       "      <th>Age</th>\n",
       "      <th>Date Joined</th>\n",
       "      <th>Number of Dependents</th>\n",
       "      <th>Family Status</th>\n",
       "      <th>Income</th>\n",
       "      <th>region</th>\n",
       "    </tr>\n",
       "  </thead>\n",
       "  <tbody>\n",
       "    <tr>\n",
       "      <th>0</th>\n",
       "      <td>2539329</td>\n",
       "      <td>1</td>\n",
       "      <td>prior</td>\n",
       "      <td>1</td>\n",
       "      <td>2</td>\n",
       "      <td>8</td>\n",
       "      <td>NaN</td>\n",
       "      <td>196</td>\n",
       "      <td>1</td>\n",
       "      <td>0</td>\n",
       "      <td>...</td>\n",
       "      <td>Linda</td>\n",
       "      <td>Nguyen</td>\n",
       "      <td>Female</td>\n",
       "      <td>Alabama</td>\n",
       "      <td>31</td>\n",
       "      <td>2/17/2019</td>\n",
       "      <td>3</td>\n",
       "      <td>married</td>\n",
       "      <td>40423</td>\n",
       "      <td>South</td>\n",
       "    </tr>\n",
       "    <tr>\n",
       "      <th>1</th>\n",
       "      <td>2398795</td>\n",
       "      <td>1</td>\n",
       "      <td>prior</td>\n",
       "      <td>2</td>\n",
       "      <td>3</td>\n",
       "      <td>7</td>\n",
       "      <td>15.0</td>\n",
       "      <td>196</td>\n",
       "      <td>1</td>\n",
       "      <td>1</td>\n",
       "      <td>...</td>\n",
       "      <td>Linda</td>\n",
       "      <td>Nguyen</td>\n",
       "      <td>Female</td>\n",
       "      <td>Alabama</td>\n",
       "      <td>31</td>\n",
       "      <td>2/17/2019</td>\n",
       "      <td>3</td>\n",
       "      <td>married</td>\n",
       "      <td>40423</td>\n",
       "      <td>South</td>\n",
       "    </tr>\n",
       "    <tr>\n",
       "      <th>2</th>\n",
       "      <td>473747</td>\n",
       "      <td>1</td>\n",
       "      <td>prior</td>\n",
       "      <td>3</td>\n",
       "      <td>3</td>\n",
       "      <td>12</td>\n",
       "      <td>21.0</td>\n",
       "      <td>196</td>\n",
       "      <td>1</td>\n",
       "      <td>1</td>\n",
       "      <td>...</td>\n",
       "      <td>Linda</td>\n",
       "      <td>Nguyen</td>\n",
       "      <td>Female</td>\n",
       "      <td>Alabama</td>\n",
       "      <td>31</td>\n",
       "      <td>2/17/2019</td>\n",
       "      <td>3</td>\n",
       "      <td>married</td>\n",
       "      <td>40423</td>\n",
       "      <td>South</td>\n",
       "    </tr>\n",
       "    <tr>\n",
       "      <th>3</th>\n",
       "      <td>2254736</td>\n",
       "      <td>1</td>\n",
       "      <td>prior</td>\n",
       "      <td>4</td>\n",
       "      <td>4</td>\n",
       "      <td>7</td>\n",
       "      <td>29.0</td>\n",
       "      <td>196</td>\n",
       "      <td>1</td>\n",
       "      <td>1</td>\n",
       "      <td>...</td>\n",
       "      <td>Linda</td>\n",
       "      <td>Nguyen</td>\n",
       "      <td>Female</td>\n",
       "      <td>Alabama</td>\n",
       "      <td>31</td>\n",
       "      <td>2/17/2019</td>\n",
       "      <td>3</td>\n",
       "      <td>married</td>\n",
       "      <td>40423</td>\n",
       "      <td>South</td>\n",
       "    </tr>\n",
       "    <tr>\n",
       "      <th>4</th>\n",
       "      <td>431534</td>\n",
       "      <td>1</td>\n",
       "      <td>prior</td>\n",
       "      <td>5</td>\n",
       "      <td>4</td>\n",
       "      <td>15</td>\n",
       "      <td>28.0</td>\n",
       "      <td>196</td>\n",
       "      <td>1</td>\n",
       "      <td>1</td>\n",
       "      <td>...</td>\n",
       "      <td>Linda</td>\n",
       "      <td>Nguyen</td>\n",
       "      <td>Female</td>\n",
       "      <td>Alabama</td>\n",
       "      <td>31</td>\n",
       "      <td>2/17/2019</td>\n",
       "      <td>3</td>\n",
       "      <td>married</td>\n",
       "      <td>40423</td>\n",
       "      <td>South</td>\n",
       "    </tr>\n",
       "    <tr>\n",
       "      <th>...</th>\n",
       "      <td>...</td>\n",
       "      <td>...</td>\n",
       "      <td>...</td>\n",
       "      <td>...</td>\n",
       "      <td>...</td>\n",
       "      <td>...</td>\n",
       "      <td>...</td>\n",
       "      <td>...</td>\n",
       "      <td>...</td>\n",
       "      <td>...</td>\n",
       "      <td>...</td>\n",
       "      <td>...</td>\n",
       "      <td>...</td>\n",
       "      <td>...</td>\n",
       "      <td>...</td>\n",
       "      <td>...</td>\n",
       "      <td>...</td>\n",
       "      <td>...</td>\n",
       "      <td>...</td>\n",
       "      <td>...</td>\n",
       "      <td>...</td>\n",
       "    </tr>\n",
       "    <tr>\n",
       "      <th>32433509</th>\n",
       "      <td>156685</td>\n",
       "      <td>106143</td>\n",
       "      <td>prior</td>\n",
       "      <td>26</td>\n",
       "      <td>4</td>\n",
       "      <td>23</td>\n",
       "      <td>5.0</td>\n",
       "      <td>19675</td>\n",
       "      <td>1</td>\n",
       "      <td>1</td>\n",
       "      <td>...</td>\n",
       "      <td>Gerald</td>\n",
       "      <td>Yates</td>\n",
       "      <td>Male</td>\n",
       "      <td>Hawaii</td>\n",
       "      <td>25</td>\n",
       "      <td>5/26/2017</td>\n",
       "      <td>0</td>\n",
       "      <td>single</td>\n",
       "      <td>53755</td>\n",
       "      <td>West</td>\n",
       "    </tr>\n",
       "    <tr>\n",
       "      <th>32433510</th>\n",
       "      <td>484769</td>\n",
       "      <td>66343</td>\n",
       "      <td>prior</td>\n",
       "      <td>1</td>\n",
       "      <td>6</td>\n",
       "      <td>11</td>\n",
       "      <td>NaN</td>\n",
       "      <td>47210</td>\n",
       "      <td>1</td>\n",
       "      <td>0</td>\n",
       "      <td>...</td>\n",
       "      <td>Jacqueline</td>\n",
       "      <td>Arroyo</td>\n",
       "      <td>Female</td>\n",
       "      <td>Tennessee</td>\n",
       "      <td>22</td>\n",
       "      <td>9/12/2017</td>\n",
       "      <td>3</td>\n",
       "      <td>married</td>\n",
       "      <td>46151</td>\n",
       "      <td>South</td>\n",
       "    </tr>\n",
       "    <tr>\n",
       "      <th>32433511</th>\n",
       "      <td>1561557</td>\n",
       "      <td>66343</td>\n",
       "      <td>prior</td>\n",
       "      <td>2</td>\n",
       "      <td>1</td>\n",
       "      <td>11</td>\n",
       "      <td>30.0</td>\n",
       "      <td>47210</td>\n",
       "      <td>1</td>\n",
       "      <td>1</td>\n",
       "      <td>...</td>\n",
       "      <td>Jacqueline</td>\n",
       "      <td>Arroyo</td>\n",
       "      <td>Female</td>\n",
       "      <td>Tennessee</td>\n",
       "      <td>22</td>\n",
       "      <td>9/12/2017</td>\n",
       "      <td>3</td>\n",
       "      <td>married</td>\n",
       "      <td>46151</td>\n",
       "      <td>South</td>\n",
       "    </tr>\n",
       "    <tr>\n",
       "      <th>32433512</th>\n",
       "      <td>276317</td>\n",
       "      <td>66343</td>\n",
       "      <td>prior</td>\n",
       "      <td>3</td>\n",
       "      <td>6</td>\n",
       "      <td>15</td>\n",
       "      <td>19.0</td>\n",
       "      <td>47210</td>\n",
       "      <td>1</td>\n",
       "      <td>1</td>\n",
       "      <td>...</td>\n",
       "      <td>Jacqueline</td>\n",
       "      <td>Arroyo</td>\n",
       "      <td>Female</td>\n",
       "      <td>Tennessee</td>\n",
       "      <td>22</td>\n",
       "      <td>9/12/2017</td>\n",
       "      <td>3</td>\n",
       "      <td>married</td>\n",
       "      <td>46151</td>\n",
       "      <td>South</td>\n",
       "    </tr>\n",
       "    <tr>\n",
       "      <th>32433513</th>\n",
       "      <td>2922475</td>\n",
       "      <td>66343</td>\n",
       "      <td>prior</td>\n",
       "      <td>4</td>\n",
       "      <td>1</td>\n",
       "      <td>12</td>\n",
       "      <td>30.0</td>\n",
       "      <td>47210</td>\n",
       "      <td>1</td>\n",
       "      <td>1</td>\n",
       "      <td>...</td>\n",
       "      <td>Jacqueline</td>\n",
       "      <td>Arroyo</td>\n",
       "      <td>Female</td>\n",
       "      <td>Tennessee</td>\n",
       "      <td>22</td>\n",
       "      <td>9/12/2017</td>\n",
       "      <td>3</td>\n",
       "      <td>married</td>\n",
       "      <td>46151</td>\n",
       "      <td>South</td>\n",
       "    </tr>\n",
       "  </tbody>\n",
       "</table>\n",
       "<p>32433514 rows × 36 columns</p>\n",
       "</div>"
      ],
      "text/plain": [
       "          order_id  user_id eval_set  order_number  orders_day_of_week  \\\n",
       "0          2539329        1    prior             1                   2   \n",
       "1          2398795        1    prior             2                   3   \n",
       "2           473747        1    prior             3                   3   \n",
       "3          2254736        1    prior             4                   4   \n",
       "4           431534        1    prior             5                   4   \n",
       "...            ...      ...      ...           ...                 ...   \n",
       "32433509    156685   106143    prior            26                   4   \n",
       "32433510    484769    66343    prior             1                   6   \n",
       "32433511   1561557    66343    prior             2                   1   \n",
       "32433512    276317    66343    prior             3                   6   \n",
       "32433513   2922475    66343    prior             4                   1   \n",
       "\n",
       "          order_hour_of_day  days_since_prior_order  product_id  \\\n",
       "0                         8                     NaN         196   \n",
       "1                         7                    15.0         196   \n",
       "2                        12                    21.0         196   \n",
       "3                         7                    29.0         196   \n",
       "4                        15                    28.0         196   \n",
       "...                     ...                     ...         ...   \n",
       "32433509                 23                     5.0       19675   \n",
       "32433510                 11                     NaN       47210   \n",
       "32433511                 11                    30.0       47210   \n",
       "32433512                 15                    19.0       47210   \n",
       "32433513                 12                    30.0       47210   \n",
       "\n",
       "          add_to_cart_order  reordered  ...  First Name Last Name  Gender  \\\n",
       "0                         1          0  ...       Linda    Nguyen  Female   \n",
       "1                         1          1  ...       Linda    Nguyen  Female   \n",
       "2                         1          1  ...       Linda    Nguyen  Female   \n",
       "3                         1          1  ...       Linda    Nguyen  Female   \n",
       "4                         1          1  ...       Linda    Nguyen  Female   \n",
       "...                     ...        ...  ...         ...       ...     ...   \n",
       "32433509                  1          1  ...      Gerald     Yates    Male   \n",
       "32433510                  1          0  ...  Jacqueline    Arroyo  Female   \n",
       "32433511                  1          1  ...  Jacqueline    Arroyo  Female   \n",
       "32433512                  1          1  ...  Jacqueline    Arroyo  Female   \n",
       "32433513                  1          1  ...  Jacqueline    Arroyo  Female   \n",
       "\n",
       "              State  Age Date Joined Number of Dependents Family Status  \\\n",
       "0           Alabama   31   2/17/2019                    3       married   \n",
       "1           Alabama   31   2/17/2019                    3       married   \n",
       "2           Alabama   31   2/17/2019                    3       married   \n",
       "3           Alabama   31   2/17/2019                    3       married   \n",
       "4           Alabama   31   2/17/2019                    3       married   \n",
       "...             ...  ...         ...                  ...           ...   \n",
       "32433509     Hawaii   25   5/26/2017                    0        single   \n",
       "32433510  Tennessee   22   9/12/2017                    3       married   \n",
       "32433511  Tennessee   22   9/12/2017                    3       married   \n",
       "32433512  Tennessee   22   9/12/2017                    3       married   \n",
       "32433513  Tennessee   22   9/12/2017                    3       married   \n",
       "\n",
       "         Income region  \n",
       "0         40423  South  \n",
       "1         40423  South  \n",
       "2         40423  South  \n",
       "3         40423  South  \n",
       "4         40423  South  \n",
       "...         ...    ...  \n",
       "32433509  53755   West  \n",
       "32433510  46151  South  \n",
       "32433511  46151  South  \n",
       "32433512  46151  South  \n",
       "32433513  46151  South  \n",
       "\n",
       "[32433514 rows x 36 columns]"
      ]
     },
     "execution_count": 4,
     "metadata": {},
     "output_type": "execute_result"
    }
   ],
   "source": [
    "ords_prods_cust_merged\n"
   ]
  },
  {
   "cell_type": "markdown",
   "id": "9dc36e23",
   "metadata": {},
   "source": [
    "### 3. Create regional segmentation of data\n"
   ]
  },
  {
   "cell_type": "code",
   "execution_count": 5,
   "id": "b606a294",
   "metadata": {},
   "outputs": [],
   "source": [
    "# Assign Northeast Region\n",
    "ords_prods_cust_merged.loc[ords_prods_cust_merged['State'] == 'Maine', 'region'] = 'Northeast'\n",
    "ords_prods_cust_merged.loc[ords_prods_cust_merged['State'] == 'New Hampshire', 'region'] = 'Northeast'\n",
    "ords_prods_cust_merged.loc[ords_prods_cust_merged['State'] == 'Vermont', 'region'] = 'Northeast'\n",
    "ords_prods_cust_merged.loc[ords_prods_cust_merged['State'] == 'Pennsylvania', 'region'] = 'Northeast'\n",
    "ords_prods_cust_merged.loc[ords_prods_cust_merged['State'] == 'Massachusetts', 'region'] = 'Northeast'\n",
    "ords_prods_cust_merged.loc[ords_prods_cust_merged['State'] == 'Rhode Island', 'region'] = 'Northeast'\n",
    "ords_prods_cust_merged.loc[ords_prods_cust_merged['State'] == 'Connecticut', 'region'] = 'Northeast'"
   ]
  },
  {
   "cell_type": "code",
   "execution_count": 6,
   "id": "1803bd48",
   "metadata": {},
   "outputs": [],
   "source": [
    "# Assign Midwest Region\n",
    "ords_prods_cust_merged.loc[ords_prods_cust_merged['State'] == 'Wisconsin', 'region'] = 'Midwest'\n",
    "ords_prods_cust_merged.loc[ords_prods_cust_merged['State'] == 'Michigan', 'region'] = 'Midwest'\n",
    "ords_prods_cust_merged.loc[ords_prods_cust_merged['State'] == 'Illinois', 'region'] = 'Midwest'\n",
    "ords_prods_cust_merged.loc[ords_prods_cust_merged['State'] == 'Indiana', 'region'] = 'Midwest'\n",
    "ords_prods_cust_merged.loc[ords_prods_cust_merged['State'] == 'Ohio', 'region'] = 'Midwest'"
   ]
  },
  {
   "cell_type": "code",
   "execution_count": 7,
   "id": "7f74f351",
   "metadata": {},
   "outputs": [],
   "source": [
    "# Assign Midwest Region2\n",
    "ords_prods_cust_merged.loc[ords_prods_cust_merged['State'] == 'North Dakota', 'region'] = 'Midwest'\n",
    "ords_prods_cust_merged.loc[ords_prods_cust_merged['State'] == 'South Dakota', 'region'] = 'Midwest'\n",
    "ords_prods_cust_merged.loc[ords_prods_cust_merged['State'] == 'Nebraska', 'region'] = 'Midwest'\n",
    "ords_prods_cust_merged.loc[ords_prods_cust_merged['State'] == 'Kansas', 'region'] = 'Midwest'\n",
    "ords_prods_cust_merged.loc[ords_prods_cust_merged['State'] == 'Minnesota', 'region'] = 'Midwest'\n",
    "ords_prods_cust_merged.loc[ords_prods_cust_merged['State'] == 'Iowa', 'region'] = 'Midwest'\n",
    "ords_prods_cust_merged.loc[ords_prods_cust_merged['State'] == 'Missouri', 'region'] = 'Midwest'"
   ]
  },
  {
   "cell_type": "code",
   "execution_count": 8,
   "id": "8fd91747",
   "metadata": {},
   "outputs": [],
   "source": [
    "# Assign South Region\n",
    "ords_prods_cust_merged.loc[ords_prods_cust_merged['State'] == 'Delaware', 'region'] = 'South'\n",
    "ords_prods_cust_merged.loc[ords_prods_cust_merged['State'] == 'Maryland', 'region'] = 'South'\n",
    "ords_prods_cust_merged.loc[ords_prods_cust_merged['State'] == 'District of Columbia', 'region'] = 'South'\n",
    "ords_prods_cust_merged.loc[ords_prods_cust_merged['State'] == 'Virginia', 'region'] = 'South'\n",
    "ords_prods_cust_merged.loc[ords_prods_cust_merged['State'] == 'West Virginia', 'region'] = 'South'\n",
    "ords_prods_cust_merged.loc[ords_prods_cust_merged['State'] == 'North Carolina', 'region'] = 'South'\n",
    "ords_prods_cust_merged.loc[ords_prods_cust_merged['State'] == 'South Carolina', 'region'] = 'South'\n",
    "ords_prods_cust_merged.loc[ords_prods_cust_merged['State'] == 'Georgia', 'region'] = 'South'\n",
    "ords_prods_cust_merged.loc[ords_prods_cust_merged['State'] == 'Florida', 'region'] = 'South'"
   ]
  },
  {
   "cell_type": "code",
   "execution_count": 9,
   "id": "3f46d1d0",
   "metadata": {},
   "outputs": [],
   "source": [
    "# Assign South Region2\n",
    "ords_prods_cust_merged.loc[ords_prods_cust_merged['State'] == 'Kentucky', 'region'] = 'South'\n",
    "ords_prods_cust_merged.loc[ords_prods_cust_merged['State'] == 'Tennessee', 'region'] = 'South'\n",
    "ords_prods_cust_merged.loc[ords_prods_cust_merged['State'] == 'Mississippi', 'region'] = 'South'\n",
    "ords_prods_cust_merged.loc[ords_prods_cust_merged['State'] == 'Alabama', 'region'] = 'South'"
   ]
  },
  {
   "cell_type": "code",
   "execution_count": 10,
   "id": "314742ea",
   "metadata": {},
   "outputs": [],
   "source": [
    "# Assign South Region3\n",
    "ords_prods_cust_merged.loc[ords_prods_cust_merged['State'] == 'Oklahoma', 'region'] = 'South'\n",
    "ords_prods_cust_merged.loc[ords_prods_cust_merged['State'] == 'Texas', 'region'] = 'South'\n",
    "ords_prods_cust_merged.loc[ords_prods_cust_merged['State'] == 'Arkansas', 'region'] = 'South'\n",
    "ords_prods_cust_merged.loc[ords_prods_cust_merged['State'] == 'Louisiana', 'region'] = 'South'"
   ]
  },
  {
   "cell_type": "code",
   "execution_count": 11,
   "id": "198ba9d3",
   "metadata": {},
   "outputs": [],
   "source": [
    "# Assign West Region\n",
    "ords_prods_cust_merged.loc[ords_prods_cust_merged['State'] == 'Idaho', 'region'] = 'West'\n",
    "ords_prods_cust_merged.loc[ords_prods_cust_merged['State'] == 'Montana', 'region'] = 'West'\n",
    "ords_prods_cust_merged.loc[ords_prods_cust_merged['State'] == 'Wyoming', 'region'] = 'West'\n",
    "ords_prods_cust_merged.loc[ords_prods_cust_merged['State'] == 'Nevada', 'region'] = 'West'\n",
    "ords_prods_cust_merged.loc[ords_prods_cust_merged['State'] == 'Utah', 'region'] = 'West'\n",
    "ords_prods_cust_merged.loc[ords_prods_cust_merged['State'] == 'Colorado', 'region'] = 'West'\n",
    "ords_prods_cust_merged.loc[ords_prods_cust_merged['State'] == 'Arizona', 'region'] = 'West'\n",
    "ords_prods_cust_merged.loc[ords_prods_cust_merged['State'] == 'New Mexico', 'region'] = 'West'"
   ]
  },
  {
   "cell_type": "code",
   "execution_count": 12,
   "id": "ec03a1e6",
   "metadata": {},
   "outputs": [],
   "source": [
    "# Assign West Region2\n",
    "ords_prods_cust_merged.loc[ords_prods_cust_merged['State'] == 'Alaska', 'region'] = 'West'\n",
    "ords_prods_cust_merged.loc[ords_prods_cust_merged['State'] == 'Washington', 'region'] = 'West'\n",
    "ords_prods_cust_merged.loc[ords_prods_cust_merged['State'] == 'Oregon', 'region'] = 'West'\n",
    "ords_prods_cust_merged.loc[ords_prods_cust_merged['State'] == 'California', 'region'] = 'West'\n",
    "ords_prods_cust_merged.loc[ords_prods_cust_merged['State'] == 'Hawaii', 'region'] = 'West'"
   ]
  },
  {
   "cell_type": "code",
   "execution_count": 13,
   "id": "c9c36625",
   "metadata": {},
   "outputs": [
    {
     "data": {
      "text/html": [
       "<div>\n",
       "<style scoped>\n",
       "    .dataframe tbody tr th:only-of-type {\n",
       "        vertical-align: middle;\n",
       "    }\n",
       "\n",
       "    .dataframe tbody tr th {\n",
       "        vertical-align: top;\n",
       "    }\n",
       "\n",
       "    .dataframe thead th {\n",
       "        text-align: right;\n",
       "    }\n",
       "</style>\n",
       "<table border=\"1\" class=\"dataframe\">\n",
       "  <thead>\n",
       "    <tr style=\"text-align: right;\">\n",
       "      <th></th>\n",
       "      <th>order_id</th>\n",
       "      <th>user_id</th>\n",
       "      <th>eval_set</th>\n",
       "      <th>order_number</th>\n",
       "      <th>orders_day_of_week</th>\n",
       "      <th>order_hour_of_day</th>\n",
       "      <th>days_since_prior_order</th>\n",
       "      <th>product_id</th>\n",
       "      <th>add_to_cart_order</th>\n",
       "      <th>reordered</th>\n",
       "      <th>...</th>\n",
       "      <th>First Name</th>\n",
       "      <th>Last Name</th>\n",
       "      <th>Gender</th>\n",
       "      <th>State</th>\n",
       "      <th>Age</th>\n",
       "      <th>Date Joined</th>\n",
       "      <th>Number of Dependents</th>\n",
       "      <th>Family Status</th>\n",
       "      <th>Income</th>\n",
       "      <th>region</th>\n",
       "    </tr>\n",
       "  </thead>\n",
       "  <tbody>\n",
       "    <tr>\n",
       "      <th>0</th>\n",
       "      <td>2539329</td>\n",
       "      <td>1</td>\n",
       "      <td>prior</td>\n",
       "      <td>1</td>\n",
       "      <td>2</td>\n",
       "      <td>8</td>\n",
       "      <td>NaN</td>\n",
       "      <td>196</td>\n",
       "      <td>1</td>\n",
       "      <td>0</td>\n",
       "      <td>...</td>\n",
       "      <td>Linda</td>\n",
       "      <td>Nguyen</td>\n",
       "      <td>Female</td>\n",
       "      <td>Alabama</td>\n",
       "      <td>31</td>\n",
       "      <td>2/17/2019</td>\n",
       "      <td>3</td>\n",
       "      <td>married</td>\n",
       "      <td>40423</td>\n",
       "      <td>South</td>\n",
       "    </tr>\n",
       "    <tr>\n",
       "      <th>1</th>\n",
       "      <td>2398795</td>\n",
       "      <td>1</td>\n",
       "      <td>prior</td>\n",
       "      <td>2</td>\n",
       "      <td>3</td>\n",
       "      <td>7</td>\n",
       "      <td>15.0</td>\n",
       "      <td>196</td>\n",
       "      <td>1</td>\n",
       "      <td>1</td>\n",
       "      <td>...</td>\n",
       "      <td>Linda</td>\n",
       "      <td>Nguyen</td>\n",
       "      <td>Female</td>\n",
       "      <td>Alabama</td>\n",
       "      <td>31</td>\n",
       "      <td>2/17/2019</td>\n",
       "      <td>3</td>\n",
       "      <td>married</td>\n",
       "      <td>40423</td>\n",
       "      <td>South</td>\n",
       "    </tr>\n",
       "    <tr>\n",
       "      <th>2</th>\n",
       "      <td>473747</td>\n",
       "      <td>1</td>\n",
       "      <td>prior</td>\n",
       "      <td>3</td>\n",
       "      <td>3</td>\n",
       "      <td>12</td>\n",
       "      <td>21.0</td>\n",
       "      <td>196</td>\n",
       "      <td>1</td>\n",
       "      <td>1</td>\n",
       "      <td>...</td>\n",
       "      <td>Linda</td>\n",
       "      <td>Nguyen</td>\n",
       "      <td>Female</td>\n",
       "      <td>Alabama</td>\n",
       "      <td>31</td>\n",
       "      <td>2/17/2019</td>\n",
       "      <td>3</td>\n",
       "      <td>married</td>\n",
       "      <td>40423</td>\n",
       "      <td>South</td>\n",
       "    </tr>\n",
       "    <tr>\n",
       "      <th>3</th>\n",
       "      <td>2254736</td>\n",
       "      <td>1</td>\n",
       "      <td>prior</td>\n",
       "      <td>4</td>\n",
       "      <td>4</td>\n",
       "      <td>7</td>\n",
       "      <td>29.0</td>\n",
       "      <td>196</td>\n",
       "      <td>1</td>\n",
       "      <td>1</td>\n",
       "      <td>...</td>\n",
       "      <td>Linda</td>\n",
       "      <td>Nguyen</td>\n",
       "      <td>Female</td>\n",
       "      <td>Alabama</td>\n",
       "      <td>31</td>\n",
       "      <td>2/17/2019</td>\n",
       "      <td>3</td>\n",
       "      <td>married</td>\n",
       "      <td>40423</td>\n",
       "      <td>South</td>\n",
       "    </tr>\n",
       "    <tr>\n",
       "      <th>4</th>\n",
       "      <td>431534</td>\n",
       "      <td>1</td>\n",
       "      <td>prior</td>\n",
       "      <td>5</td>\n",
       "      <td>4</td>\n",
       "      <td>15</td>\n",
       "      <td>28.0</td>\n",
       "      <td>196</td>\n",
       "      <td>1</td>\n",
       "      <td>1</td>\n",
       "      <td>...</td>\n",
       "      <td>Linda</td>\n",
       "      <td>Nguyen</td>\n",
       "      <td>Female</td>\n",
       "      <td>Alabama</td>\n",
       "      <td>31</td>\n",
       "      <td>2/17/2019</td>\n",
       "      <td>3</td>\n",
       "      <td>married</td>\n",
       "      <td>40423</td>\n",
       "      <td>South</td>\n",
       "    </tr>\n",
       "  </tbody>\n",
       "</table>\n",
       "<p>5 rows × 36 columns</p>\n",
       "</div>"
      ],
      "text/plain": [
       "   order_id  user_id eval_set  order_number  orders_day_of_week  \\\n",
       "0   2539329        1    prior             1                   2   \n",
       "1   2398795        1    prior             2                   3   \n",
       "2    473747        1    prior             3                   3   \n",
       "3   2254736        1    prior             4                   4   \n",
       "4    431534        1    prior             5                   4   \n",
       "\n",
       "   order_hour_of_day  days_since_prior_order  product_id  add_to_cart_order  \\\n",
       "0                  8                     NaN         196                  1   \n",
       "1                  7                    15.0         196                  1   \n",
       "2                 12                    21.0         196                  1   \n",
       "3                  7                    29.0         196                  1   \n",
       "4                 15                    28.0         196                  1   \n",
       "\n",
       "   reordered  ... First Name Last Name  Gender    State  Age Date Joined  \\\n",
       "0          0  ...      Linda    Nguyen  Female  Alabama   31   2/17/2019   \n",
       "1          1  ...      Linda    Nguyen  Female  Alabama   31   2/17/2019   \n",
       "2          1  ...      Linda    Nguyen  Female  Alabama   31   2/17/2019   \n",
       "3          1  ...      Linda    Nguyen  Female  Alabama   31   2/17/2019   \n",
       "4          1  ...      Linda    Nguyen  Female  Alabama   31   2/17/2019   \n",
       "\n",
       "  Number of Dependents Family Status Income region  \n",
       "0                    3       married  40423  South  \n",
       "1                    3       married  40423  South  \n",
       "2                    3       married  40423  South  \n",
       "3                    3       married  40423  South  \n",
       "4                    3       married  40423  South  \n",
       "\n",
       "[5 rows x 36 columns]"
      ]
     },
     "execution_count": 13,
     "metadata": {},
     "output_type": "execute_result"
    }
   ],
   "source": [
    "ords_prods_cust_merged.head()"
   ]
  },
  {
   "cell_type": "code",
   "execution_count": 14,
   "id": "78171ade",
   "metadata": {},
   "outputs": [],
   "source": [
    "# Determine whether there’s a difference in spending habits between the different U.S. regions\n",
    "# Crosstab Region to spending flag\n",
    "crosstab = pd.crosstab(ords_prods_cust_merged['region'], ords_prods_cust_merged['spender_flag'], dropna = False)"
   ]
  },
  {
   "cell_type": "code",
   "execution_count": 15,
   "id": "73bced52",
   "metadata": {},
   "outputs": [],
   "source": [
    "#copy the crosstab table to the clipboard\n",
    "crosstab.to_clipboard()"
   ]
  },
  {
   "cell_type": "code",
   "execution_count": 16,
   "id": "13a1f9d2",
   "metadata": {},
   "outputs": [],
   "source": [
    "# save changes to ords_prods_cust_merged\n",
    "# creat a path\n",
    "path = r'C:\\Users\\amany\\A4-Instacart Basket Analysis'\n",
    "ords_prods_cust_merged.to_pickle(os.path.join(path, '02 Data','Prepared Data', 'ords_prods_cust_merged.pkl'))"
   ]
  },
  {
   "cell_type": "markdown",
   "id": "b1bff2ef",
   "metadata": {},
   "source": [
    "### 4. Create an exclusion flag for low-activity customers (customers with less than 5 orders) and exclude them from the data. Make sure you export this sample."
   ]
  },
  {
   "cell_type": "code",
   "execution_count": 17,
   "id": "9511f196",
   "metadata": {},
   "outputs": [],
   "source": [
    "# Create a flag for customers who less than 5 orders\n",
    "ords_prods_cust_merged.loc[ords_prods_cust_merged['max_order'] < 5, 'activity_flag'] = 'low-activity customer'\n",
    "ords_prods_cust_merged.loc[ords_prods_cust_merged['max_order'] >= 5, 'activity_flag'] = 'high-activity customer'"
   ]
  },
  {
   "cell_type": "code",
   "execution_count": 18,
   "id": "3f58cb1f",
   "metadata": {},
   "outputs": [
    {
     "data": {
      "text/plain": [
       "high-activity customer    30992010\n",
       "low-activity customer      1441504\n",
       "Name: activity_flag, dtype: int64"
      ]
     },
     "execution_count": 18,
     "metadata": {},
     "output_type": "execute_result"
    }
   ],
   "source": [
    "ords_prods_cust_merged['activity_flag'].value_counts(dropna = False)"
   ]
  },
  {
   "cell_type": "code",
   "execution_count": 83,
   "id": "a3320502",
   "metadata": {},
   "outputs": [
    {
     "data": {
      "image/png": "[encoded data removed]",
      "text/plain": [
       "<Figure size 720x432 with 1 Axes>"
      ]
     },
     "metadata": {
      "needs_background": "light"
     },
     "output_type": "display_data"
    }
   ],
   "source": [
    "# Plot the bar chart\n",
    "crosstab.plot(kind='bar', figsize=(10, 6), width=0.8)\n",
    "\n",
    "# Customize the chart\n",
    "plt.title('Spender Distribution by Region', fontsize=16)\n",
    "\n",
    "plt.legend(title='Spender Flag', fontsize=10)\n",
    "\n",
    "# Show the chart\n",
    "plt.tight_layout()\n",
    "plt.show()"
   ]
  },
  {
   "cell_type": "code",
   "execution_count": 19,
   "id": "39d099f8",
   "metadata": {},
   "outputs": [],
   "source": [
    "# remove low-activity customers from the dataframe\n",
    "df_excluded = ords_prods_cust_merged[ords_prods_cust_merged['activity_flag'] != 'low-activity customer']"
   ]
  },
  {
   "cell_type": "code",
   "execution_count": 20,
   "id": "a49cb116",
   "metadata": {},
   "outputs": [],
   "source": [
    "# Export the new dataframe\n",
    "df_excluded.to_pickle(os.path.join(path, '02 Data','Prepared Data', 'filtered_orders_products_customers.pkl'))"
   ]
  },
  {
   "cell_type": "markdown",
   "id": "36ea225a",
   "metadata": {},
   "source": [
    "### 5. Create a profiling variable based on age, income, certain goods in the “department_id” column, and number of dependents. You might also use the “orders_day_of_week” and “order_hour_of_day” columns if you can think of a way they would impact customer profiles."
   ]
  },
  {
   "cell_type": "markdown",
   "id": "592e8f14",
   "metadata": {},
   "source": [
    "## age"
   ]
  },
  {
   "cell_type": "code",
   "execution_count": 21,
   "id": "32818ac7",
   "metadata": {},
   "outputs": [
    {
     "name": "stderr",
     "output_type": "stream",
     "text": [
      "C:\\Users\\amany\\AppData\\Local\\Temp\\ipykernel_16708\\2946373682.py:2: SettingWithCopyWarning: \n",
      "A value is trying to be set on a copy of a slice from a DataFrame.\n",
      "Try using .loc[row_indexer,col_indexer] = value instead\n",
      "\n",
      "See the caveats in the documentation: https://pandas.pydata.org/pandas-docs/stable/user_guide/indexing.html#returning-a-view-versus-a-copy\n",
      "  df_excluded.loc[df_excluded['Age'] <= 30, 'age_group'] = 'young'\n"
     ]
    }
   ],
   "source": [
    "# Create an age group variable\n",
    "df_excluded.loc[df_excluded['Age'] <= 30, 'age_group'] = 'young'\n",
    "df_excluded.loc[(df_excluded['Age'] > 30) & (df_excluded['Age'] <= 50), 'age_group'] = 'adult'\n",
    "df_excluded.loc[df_excluded['Age'] > 50, 'age_group'] = 'older'"
   ]
  },
  {
   "cell_type": "code",
   "execution_count": 22,
   "id": "f68a3dc0",
   "metadata": {},
   "outputs": [
    {
     "data": {
      "text/plain": [
       "older    14961066\n",
       "adult     9720968\n",
       "young     6309976\n",
       "Name: age_group, dtype: int64"
      ]
     },
     "execution_count": 22,
     "metadata": {},
     "output_type": "execute_result"
    }
   ],
   "source": [
    "# Check value counts for each age group\n",
    "age_group_counts = df_excluded['age_group'].value_counts(dropna = False)\n",
    "age_group_counts"
   ]
  },
  {
   "cell_type": "code",
   "execution_count": 23,
   "id": "911e26ff",
   "metadata": {},
   "outputs": [
    {
     "data": {
      "image/png": "[encoded data removed]",
      "text/plain": [
       "<Figure size 432x288 with 1 Axes>"
      ]
     },
     "metadata": {},
     "output_type": "display_data"
    }
   ],
   "source": [
    "# create a pie chart showing the distribution of age groups\n",
    "age_group_distribution_pie = age_group_counts.plot.pie(autopct='%1.1f%%', labels= ['young: <30 years', 'adult: 30-50 years', 'older: 50+ years'], startangle=90, colors=['black','gray','lightgrey'])\n",
    "plt.ylabel('')\n",
    "plt.title('Distribution of Age Groups')\n",
    "plt.show()"
   ]
  },
  {
   "cell_type": "code",
   "execution_count": 24,
   "id": "b893e71c",
   "metadata": {},
   "outputs": [],
   "source": [
    "# Export chart\n",
    "age_group_distribution_pie.figure.savefig(os.path.join(path, '04 Analysis','Visualizations', 'age_group_distribution_pie.png'))"
   ]
  },
  {
   "cell_type": "markdown",
   "id": "be26e6dc",
   "metadata": {},
   "source": [
    "## income"
   ]
  },
  {
   "cell_type": "code",
   "execution_count": 25,
   "id": "3228c629",
   "metadata": {},
   "outputs": [
    {
     "name": "stderr",
     "output_type": "stream",
     "text": [
      "C:\\Users\\amany\\AppData\\Local\\Temp\\ipykernel_16708\\2962590736.py:2: SettingWithCopyWarning: \n",
      "A value is trying to be set on a copy of a slice from a DataFrame.\n",
      "Try using .loc[row_indexer,col_indexer] = value instead\n",
      "\n",
      "See the caveats in the documentation: https://pandas.pydata.org/pandas-docs/stable/user_guide/indexing.html#returning-a-view-versus-a-copy\n",
      "  df_excluded.loc[df_excluded['Income'] <= 40000, 'income_ group'] = 'low-income'\n",
      "C:\\Users\\amany\\AppData\\Local\\Temp\\ipykernel_16708\\2962590736.py:3: SettingWithCopyWarning: \n",
      "A value is trying to be set on a copy of a slice from a DataFrame.\n",
      "Try using .loc[row_indexer,col_indexer] = value instead\n",
      "\n",
      "See the caveats in the documentation: https://pandas.pydata.org/pandas-docs/stable/user_guide/indexing.html#returning-a-view-versus-a-copy\n",
      "  df_excluded.loc[(df_excluded['Income'] > 40000) & (df_excluded['Income'] <= 80000), 'income_group'] = 'middle-income'\n"
     ]
    }
   ],
   "source": [
    "# Create an income group variable\n",
    "df_excluded.loc[df_excluded['Income'] <= 40000, 'income_ group'] = 'low-income'\n",
    "df_excluded.loc[(df_excluded['Income'] > 40000) & (df_excluded['Income'] <= 80000), 'income_group'] = 'middle-income'\n",
    "df_excluded.loc[df_excluded['Income'] > 80000, 'income_group'] = 'high-income'"
   ]
  },
  {
   "cell_type": "code",
   "execution_count": 26,
   "id": "9b343739",
   "metadata": {},
   "outputs": [
    {
     "data": {
      "text/plain": [
       "high-income      19989553\n",
       "middle-income     9388744\n",
       "NaN               1613713\n",
       "Name: income_group, dtype: int64"
      ]
     },
     "execution_count": 26,
     "metadata": {},
     "output_type": "execute_result"
    }
   ],
   "source": [
    "# Check the counts of income groups\n",
    "df_excluded['income_group'].value_counts(dropna = False)\n"
   ]
  },
  {
   "cell_type": "code",
   "execution_count": 27,
   "id": "99c55199",
   "metadata": {},
   "outputs": [
    {
     "data": {
      "image/png": "[encoded data removed]",
      "text/plain": [
       "<Figure size 432x288 with 1 Axes>"
      ]
     },
     "metadata": {
      "needs_background": "light"
     },
     "output_type": "display_data"
    }
   ],
   "source": [
    "# Make a bar chart showing the distribution of income groups\n",
    "income_group_counts = df_excluded['income_group'].value_counts(dropna=False)\n",
    "income_group_distribution_bar = income_group_counts.plot.bar(color=['black','gray','lightgrey'])\n",
    "colors=['black','gray','lightgrey']\n",
    "plt.title('Distribution of Income Groups')\n",
    "plt.xlabel('')\n",
    "plt.ylabel('Count')\n",
    "plt.show()"
   ]
  },
  {
   "cell_type": "code",
   "execution_count": 28,
   "id": "214dca34",
   "metadata": {},
   "outputs": [],
   "source": [
    "# Export the bar chart\n",
    "income_group_distribution_bar.figure.savefig(os.path.join(path, '04 Analysis','Visualizations', 'income_distribution_bar.png'))"
   ]
  },
  {
   "cell_type": "markdown",
   "id": "d7b458ab",
   "metadata": {},
   "source": [
    "## Dependants"
   ]
  },
  {
   "cell_type": "code",
   "execution_count": 29,
   "id": "0bf6e7bf",
   "metadata": {},
   "outputs": [
    {
     "name": "stderr",
     "output_type": "stream",
     "text": [
      "C:\\Users\\amany\\AppData\\Local\\Temp\\ipykernel_16708\\4188308150.py:2: SettingWithCopyWarning: \n",
      "A value is trying to be set on a copy of a slice from a DataFrame.\n",
      "Try using .loc[row_indexer,col_indexer] = value instead\n",
      "\n",
      "See the caveats in the documentation: https://pandas.pydata.org/pandas-docs/stable/user_guide/indexing.html#returning-a-view-versus-a-copy\n",
      "  df_excluded.loc[df_excluded['Number of Dependents'] == 0, 'dependants_flag'] = 'single'\n"
     ]
    }
   ],
   "source": [
    "# Create a dependents flag\n",
    "df_excluded.loc[df_excluded['Number of Dependents'] == 0, 'dependants_flag'] = 'single'\n",
    "df_excluded.loc[df_excluded['Number of Dependents'] >= 1, 'dependants_flag'] = 'parent or has dependants'\n"
   ]
  },
  {
   "cell_type": "code",
   "execution_count": 30,
   "id": "0c9c508f",
   "metadata": {},
   "outputs": [
    {
     "data": {
      "text/plain": [
       "parent or has dependants    23245165\n",
       "single                       7746845\n",
       "Name: dependants_flag, dtype: int64"
      ]
     },
     "execution_count": 30,
     "metadata": {},
     "output_type": "execute_result"
    }
   ],
   "source": [
    "# Check value counts\n",
    "dependant_counts = df_excluded['dependants_flag'].value_counts(dropna = False)\n",
    "dependant_counts"
   ]
  },
  {
   "cell_type": "code",
   "execution_count": 31,
   "id": "39ad499e",
   "metadata": {},
   "outputs": [
    {
     "data": {
      "image/png": "[encoded data removed]",
      "text/plain": [
       "<Figure size 432x288 with 1 Axes>"
      ]
     },
     "metadata": {},
     "output_type": "display_data"
    }
   ],
   "source": [
    "# create a pie chart showing the percentage of dependants\n",
    "dependants_pie = dependant_counts.plot.pie(autopct='%1.1f%%', labels= ['parent or no dependants', 'single'], startangle=90, colors=['gray','lightgray'])\n",
    "plt.title('Percentage of dependant groups')\n",
    "plt.ylabel('')\n",
    "plt.show()"
   ]
  },
  {
   "cell_type": "code",
   "execution_count": 32,
   "id": "7a44a57f",
   "metadata": {},
   "outputs": [],
   "source": [
    "# Export the bar chart\n",
    "dependants_pie.figure.savefig(os.path.join(path, '04 Analysis','Visualizations', 'the_percentage_of_dependants_bar.png'))"
   ]
  },
  {
   "cell_type": "code",
   "execution_count": 33,
   "id": "c287ab20",
   "metadata": {},
   "outputs": [],
   "source": [
    "# Export the new dataframe\n",
    "df_excluded.to_pickle(os.path.join(path, '02 Data','Prepared Data', 'excluded_low_activity.pkl'))"
   ]
  },
  {
   "cell_type": "code",
   "execution_count": 34,
   "id": "2a364ee4",
   "metadata": {},
   "outputs": [
    {
     "ename": "MemoryError",
     "evalue": "",
     "output_type": "error",
     "traceback": [
      "\u001b[1;31m---------------------------------------------------------------------------\u001b[0m",
      "\u001b[1;31mMemoryError\u001b[0m                               Traceback (most recent call last)",
      "Input \u001b[1;32mIn [34]\u001b[0m, in \u001b[0;36m<cell line: 2>\u001b[1;34m()\u001b[0m\n\u001b[0;32m      1\u001b[0m \u001b[38;5;66;03m# import the new dataframe(excluded_low_activity)\u001b[39;00m\n\u001b[1;32m----> 2\u001b[0m df_excluded \u001b[38;5;241m=\u001b[39m \u001b[43mpd\u001b[49m\u001b[38;5;241;43m.\u001b[39;49m\u001b[43mread_pickle\u001b[49m\u001b[43m(\u001b[49m\u001b[43mos\u001b[49m\u001b[38;5;241;43m.\u001b[39;49m\u001b[43mpath\u001b[49m\u001b[38;5;241;43m.\u001b[39;49m\u001b[43mjoin\u001b[49m\u001b[43m(\u001b[49m\u001b[43mpath\u001b[49m\u001b[43m,\u001b[49m\u001b[43m \u001b[49m\u001b[38;5;124;43m'\u001b[39;49m\u001b[38;5;124;43m02 Data\u001b[39;49m\u001b[38;5;124;43m'\u001b[39;49m\u001b[43m,\u001b[49m\u001b[43m \u001b[49m\u001b[38;5;124;43m'\u001b[39;49m\u001b[38;5;124;43mPrepared Data\u001b[39;49m\u001b[38;5;124;43m'\u001b[39;49m\u001b[43m,\u001b[49m\u001b[43m \u001b[49m\u001b[38;5;124;43m'\u001b[39;49m\u001b[38;5;124;43mexcluded_low_activity.pkl\u001b[39;49m\u001b[38;5;124;43m'\u001b[39;49m\u001b[43m)\u001b[49m\u001b[43m)\u001b[49m\n",
      "File \u001b[1;32m~\\anaconda3\\lib\\site-packages\\pandas\\io\\pickle.py:205\u001b[0m, in \u001b[0;36mread_pickle\u001b[1;34m(filepath_or_buffer, compression, storage_options)\u001b[0m\n\u001b[0;32m    202\u001b[0m     \u001b[38;5;28;01mwith\u001b[39;00m warnings\u001b[38;5;241m.\u001b[39mcatch_warnings(record\u001b[38;5;241m=\u001b[39m\u001b[38;5;28;01mTrue\u001b[39;00m):\n\u001b[0;32m    203\u001b[0m         \u001b[38;5;66;03m# We want to silence any warnings about, e.g. moved modules.\u001b[39;00m\n\u001b[0;32m    204\u001b[0m         warnings\u001b[38;5;241m.\u001b[39msimplefilter(\u001b[38;5;124m\"\u001b[39m\u001b[38;5;124mignore\u001b[39m\u001b[38;5;124m\"\u001b[39m, \u001b[38;5;167;01mWarning\u001b[39;00m)\n\u001b[1;32m--> 205\u001b[0m         \u001b[38;5;28;01mreturn\u001b[39;00m \u001b[43mpickle\u001b[49m\u001b[38;5;241;43m.\u001b[39;49m\u001b[43mload\u001b[49m\u001b[43m(\u001b[49m\u001b[43mhandles\u001b[49m\u001b[38;5;241;43m.\u001b[39;49m\u001b[43mhandle\u001b[49m\u001b[43m)\u001b[49m\n\u001b[0;32m    206\u001b[0m \u001b[38;5;28;01mexcept\u001b[39;00m excs_to_catch:\n\u001b[0;32m    207\u001b[0m     \u001b[38;5;66;03m# e.g.\u001b[39;00m\n\u001b[0;32m    208\u001b[0m     \u001b[38;5;66;03m#  \"No module named 'pandas.core.sparse.series'\"\u001b[39;00m\n\u001b[0;32m    209\u001b[0m     \u001b[38;5;66;03m#  \"Can't get attribute '__nat_unpickle' on <module 'pandas._libs.tslib\"\u001b[39;00m\n\u001b[0;32m    210\u001b[0m     \u001b[38;5;28;01mreturn\u001b[39;00m pc\u001b[38;5;241m.\u001b[39mload(handles\u001b[38;5;241m.\u001b[39mhandle, encoding\u001b[38;5;241m=\u001b[39m\u001b[38;5;28;01mNone\u001b[39;00m)\n",
      "\u001b[1;31mMemoryError\u001b[0m: "
     ]
    }
   ],
   "source": [
    "# import the new dataframe(excluded_low_activity)\n",
    "df_excluded = pd.read_pickle(os.path.join(path, '02 Data', 'Prepared Data', 'excluded_low_activity.pkl'))"
   ]
  },
  {
   "cell_type": "code",
   "execution_count": 35,
   "id": "a5f74dde",
   "metadata": {},
   "outputs": [
    {
     "data": {
      "text/plain": [
       "Index(['order_id', 'user_id', 'eval_set', 'order_number', 'orders_day_of_week',\n",
       "       'order_hour_of_day', 'days_since_prior_order', 'product_id',\n",
       "       'add_to_cart_order', 'reordered', '_merge', 'product_name', 'aisle_id',\n",
       "       'department_id', 'prices', 'match', 'price_range_loc', 'busiest_day',\n",
       "       'busiest_days', 'busiest_period_of_day', 'max_order', 'loyalty_flag',\n",
       "       'average_spend', 'spender_flag', 'Customer_frequency', 'frequency_flag',\n",
       "       'First Name', 'Last Name', 'Gender', 'State', 'Age', 'Date Joined',\n",
       "       'Number of Dependents', 'Family Status', 'Income', 'region',\n",
       "       'activity_flag', 'age_group', 'income_ group', 'income_group',\n",
       "       'dependants_flag'],\n",
       "      dtype='object')"
      ]
     },
     "execution_count": 35,
     "metadata": {},
     "output_type": "execute_result"
    }
   ],
   "source": [
    "df_excluded.columns"
   ]
  },
  {
   "cell_type": "markdown",
   "id": "bcf1ddb7",
   "metadata": {},
   "source": [
    "## more insightful analysis\n",
    "### 1. Region and Spender Flag:"
   ]
  },
  {
   "cell_type": "code",
   "execution_count": 36,
   "id": "060f4f5c",
   "metadata": {},
   "outputs": [],
   "source": [
    "# show if there is a relationship between geographical region and customer spending behavior.\n",
    "Region_Spender_crosstab = pd.crosstab(df_excluded['region'], df_excluded['spender_flag'], dropna=False)\n"
   ]
  },
  {
   "cell_type": "code",
   "execution_count": 37,
   "id": "76329e86",
   "metadata": {},
   "outputs": [
    {
     "data": {
      "text/html": [
       "<div>\n",
       "<style scoped>\n",
       "    .dataframe tbody tr th:only-of-type {\n",
       "        vertical-align: middle;\n",
       "    }\n",
       "\n",
       "    .dataframe tbody tr th {\n",
       "        vertical-align: top;\n",
       "    }\n",
       "\n",
       "    .dataframe thead th {\n",
       "        text-align: right;\n",
       "    }\n",
       "</style>\n",
       "<table border=\"1\" class=\"dataframe\">\n",
       "  <thead>\n",
       "    <tr style=\"text-align: right;\">\n",
       "      <th>spender_flag</th>\n",
       "      <th>High_spender</th>\n",
       "      <th>Low_spender</th>\n",
       "    </tr>\n",
       "    <tr>\n",
       "      <th>region</th>\n",
       "      <th></th>\n",
       "      <th></th>\n",
       "    </tr>\n",
       "  </thead>\n",
       "  <tbody>\n",
       "    <tr>\n",
       "      <th>Midwest</th>\n",
       "      <td>133479</td>\n",
       "      <td>7134022</td>\n",
       "    </tr>\n",
       "    <tr>\n",
       "      <th>Northeast</th>\n",
       "      <td>76112</td>\n",
       "      <td>4187799</td>\n",
       "    </tr>\n",
       "    <tr>\n",
       "      <th>South</th>\n",
       "      <td>180273</td>\n",
       "      <td>10139962</td>\n",
       "    </tr>\n",
       "    <tr>\n",
       "      <th>West</th>\n",
       "      <td>140652</td>\n",
       "      <td>7793655</td>\n",
       "    </tr>\n",
       "  </tbody>\n",
       "</table>\n",
       "</div>"
      ],
      "text/plain": [
       "spender_flag  High_spender  Low_spender\n",
       "region                                 \n",
       "Midwest             133479      7134022\n",
       "Northeast            76112      4187799\n",
       "South               180273     10139962\n",
       "West                140652      7793655"
      ]
     },
     "execution_count": 37,
     "metadata": {},
     "output_type": "execute_result"
    }
   ],
   "source": [
    "Region_Spender_crosstab"
   ]
  },
  {
   "cell_type": "code",
   "execution_count": 38,
   "id": "f51b62de",
   "metadata": {},
   "outputs": [
    {
     "data": {
      "text/plain": [
       "(array([0, 1, 2, 3]),\n",
       " [Text(0, 0, 'Midwest'),\n",
       "  Text(1, 0, 'Northeast'),\n",
       "  Text(2, 0, 'South'),\n",
       "  Text(3, 0, 'West')])"
      ]
     },
     "execution_count": 38,
     "metadata": {},
     "output_type": "execute_result"
    },
    {
     "data": {
      "image/png": "[encoded data removed]",
      "text/plain": [
       "<Figure size 432x288 with 1 Axes>"
      ]
     },
     "metadata": {
      "needs_background": "light"
     },
     "output_type": "display_data"
    }
   ],
   "source": [
    "# visualize the results in a bar chart\n",
    "Region_Spender_crosstab_bar = Region_Spender_crosstab.plot.bar(color=['black','lightgray'])\n",
    "plt.title('relationship between geographical region and customer spending behavior')\n",
    "plt.xlabel('')\n",
    "plt.ylabel('count')\n",
    "plt.xticks(rotation=0)"
   ]
  },
  {
   "cell_type": "code",
   "execution_count": 39,
   "id": "cf7d0c80",
   "metadata": {},
   "outputs": [],
   "source": [
    "# Export the bar chart\n",
    "Region_Spender_crosstab_bar.figure.savefig(os.path.join(path, '04 Analysis','Visualizations', 'Region_Spender_crosstab_bar.png'))"
   ]
  },
  {
   "cell_type": "markdown",
   "id": "83b3b0a7",
   "metadata": {},
   "source": [
    "### 2. Number of Dependents and Spender Flag:\n"
   ]
  },
  {
   "cell_type": "code",
   "execution_count": 40,
   "id": "4062a290",
   "metadata": {},
   "outputs": [],
   "source": [
    "#  Investigate if customers with dependents (like children) spend more than those without\n",
    "Dependents_SpenderFlag_crosstab = pd.crosstab(df_excluded['dependants_flag'], df_excluded['spender_flag'], dropna=False)\n"
   ]
  },
  {
   "cell_type": "code",
   "execution_count": 41,
   "id": "8fbb5d28",
   "metadata": {},
   "outputs": [
    {
     "data": {
      "text/html": [
       "<div>\n",
       "<style scoped>\n",
       "    .dataframe tbody tr th:only-of-type {\n",
       "        vertical-align: middle;\n",
       "    }\n",
       "\n",
       "    .dataframe tbody tr th {\n",
       "        vertical-align: top;\n",
       "    }\n",
       "\n",
       "    .dataframe thead th {\n",
       "        text-align: right;\n",
       "    }\n",
       "</style>\n",
       "<table border=\"1\" class=\"dataframe\">\n",
       "  <thead>\n",
       "    <tr style=\"text-align: right;\">\n",
       "      <th>spender_flag</th>\n",
       "      <th>High_spender</th>\n",
       "      <th>Low_spender</th>\n",
       "    </tr>\n",
       "    <tr>\n",
       "      <th>dependants_flag</th>\n",
       "      <th></th>\n",
       "      <th></th>\n",
       "    </tr>\n",
       "  </thead>\n",
       "  <tbody>\n",
       "    <tr>\n",
       "      <th>parent or has dependants</th>\n",
       "      <td>413462</td>\n",
       "      <td>22831703</td>\n",
       "    </tr>\n",
       "    <tr>\n",
       "      <th>single</th>\n",
       "      <td>134930</td>\n",
       "      <td>7611915</td>\n",
       "    </tr>\n",
       "  </tbody>\n",
       "</table>\n",
       "</div>"
      ],
      "text/plain": [
       "spender_flag              High_spender  Low_spender\n",
       "dependants_flag                                    \n",
       "parent or has dependants        413462     22831703\n",
       "single                          134930      7611915"
      ]
     },
     "execution_count": 41,
     "metadata": {},
     "output_type": "execute_result"
    }
   ],
   "source": [
    "Dependents_SpenderFlag_crosstab"
   ]
  },
  {
   "cell_type": "code",
   "execution_count": 42,
   "id": "93f9da6e",
   "metadata": {},
   "outputs": [
    {
     "data": {
      "text/plain": [
       "(array([0, 1]), [Text(0, 0, 'parent or has dependants'), Text(1, 0, 'single')])"
      ]
     },
     "execution_count": 42,
     "metadata": {},
     "output_type": "execute_result"
    },
    {
     "data": {
      "image/png": "[encoded data removed]",
      "text/plain": [
       "<Figure size 432x288 with 1 Axes>"
      ]
     },
     "metadata": {
      "needs_background": "light"
     },
     "output_type": "display_data"
    }
   ],
   "source": [
    "# visualize the results in a bar chart\n",
    "Dependents_SpenderFlag_crosstab_bar = Dependents_SpenderFlag_crosstab.plot.bar(color=['black','lightgray'])\n",
    "plt.title('Comparison of High and Low Spenders by Dependents Status')\n",
    "plt.xlabel('')\n",
    "plt.ylabel('count')\n",
    "plt.xticks(rotation=0)\n"
   ]
  },
  {
   "cell_type": "code",
   "execution_count": 43,
   "id": "a283016c",
   "metadata": {},
   "outputs": [],
   "source": [
    "# Export the bar chart\n",
    "Dependents_SpenderFlag_crosstab_bar.figure.savefig(os.path.join(path, '04 Analysis','Visualizations', 'Dependents_SpenderFlag_crosstab_bar.png'))"
   ]
  },
  {
   "cell_type": "markdown",
   "id": "eb618a56",
   "metadata": {},
   "source": [
    "### 3. Loyalty and Age Group"
   ]
  },
  {
   "cell_type": "code",
   "execution_count": 44,
   "id": "f784d955",
   "metadata": {},
   "outputs": [
    {
     "data": {
      "text/html": [
       "<div>\n",
       "<style scoped>\n",
       "    .dataframe tbody tr th:only-of-type {\n",
       "        vertical-align: middle;\n",
       "    }\n",
       "\n",
       "    .dataframe tbody tr th {\n",
       "        vertical-align: top;\n",
       "    }\n",
       "\n",
       "    .dataframe thead th {\n",
       "        text-align: right;\n",
       "    }\n",
       "</style>\n",
       "<table border=\"1\" class=\"dataframe\">\n",
       "  <thead>\n",
       "    <tr style=\"text-align: right;\">\n",
       "      <th>age_group</th>\n",
       "      <th>adult</th>\n",
       "      <th>older</th>\n",
       "      <th>young</th>\n",
       "    </tr>\n",
       "    <tr>\n",
       "      <th>loyalty_flag</th>\n",
       "      <th></th>\n",
       "      <th></th>\n",
       "      <th></th>\n",
       "    </tr>\n",
       "  </thead>\n",
       "  <tbody>\n",
       "    <tr>\n",
       "      <th>Loyal customer</th>\n",
       "      <td>3254435</td>\n",
       "      <td>4978121</td>\n",
       "      <td>2061098</td>\n",
       "    </tr>\n",
       "    <tr>\n",
       "      <th>New customer</th>\n",
       "      <td>1486240</td>\n",
       "      <td>2339074</td>\n",
       "      <td>982378</td>\n",
       "    </tr>\n",
       "    <tr>\n",
       "      <th>Regular customer</th>\n",
       "      <td>4980293</td>\n",
       "      <td>7643871</td>\n",
       "      <td>3266500</td>\n",
       "    </tr>\n",
       "  </tbody>\n",
       "</table>\n",
       "</div>"
      ],
      "text/plain": [
       "age_group           adult    older    young\n",
       "loyalty_flag                               \n",
       "Loyal customer    3254435  4978121  2061098\n",
       "New customer      1486240  2339074   982378\n",
       "Regular customer  4980293  7643871  3266500"
      ]
     },
     "execution_count": 44,
     "metadata": {},
     "output_type": "execute_result"
    }
   ],
   "source": [
    "# Crosstab loyalty with age group\n",
    "loyalty_age_cross = pd.crosstab(df_excluded['loyalty_flag'], df_excluded['age_group'], dropna = False)\n",
    "loyalty_age_cross"
   ]
  },
  {
   "cell_type": "code",
   "execution_count": 45,
   "id": "dea3e9ae",
   "metadata": {},
   "outputs": [
    {
     "data": {
      "text/plain": [
       "(array([0, 1, 2]),\n",
       " [Text(0, 0, 'Loyal customer'),\n",
       "  Text(1, 0, 'New customer'),\n",
       "  Text(2, 0, 'Regular customer')])"
      ]
     },
     "execution_count": 45,
     "metadata": {},
     "output_type": "execute_result"
    },
    {
     "data": {
      "image/png": "[encoded data removed]",
      "text/plain": [
       "<Figure size 432x288 with 1 Axes>"
      ]
     },
     "metadata": {
      "needs_background": "light"
     },
     "output_type": "display_data"
    }
   ],
   "source": [
    "# create a bar chart\n",
    "loyalty_age_bar = loyalty_age_cross.plot.bar(color=['black','lightgray','grey'])\n",
    "plt.title('Loyalty by Age Group')\n",
    "plt.xlabel('')\n",
    "plt.ylabel('count')\n",
    "plt.xticks(rotation=0)"
   ]
  },
  {
   "cell_type": "code",
   "execution_count": 46,
   "id": "294747b1",
   "metadata": {},
   "outputs": [],
   "source": [
    "# Export the bar chart\n",
    "loyalty_age_bar.figure.savefig(os.path.join(path, '04 Analysis','Visualizations', 'loyalty_age_group_bar.png'))"
   ]
  },
  {
   "cell_type": "markdown",
   "id": "380e6486",
   "metadata": {},
   "source": [
    "### 4. Age Group and Spender Flag:\n"
   ]
  },
  {
   "cell_type": "code",
   "execution_count": 47,
   "id": "4b7a5f0a",
   "metadata": {},
   "outputs": [
    {
     "data": {
      "text/html": [
       "<div>\n",
       "<style scoped>\n",
       "    .dataframe tbody tr th:only-of-type {\n",
       "        vertical-align: middle;\n",
       "    }\n",
       "\n",
       "    .dataframe tbody tr th {\n",
       "        vertical-align: top;\n",
       "    }\n",
       "\n",
       "    .dataframe thead th {\n",
       "        text-align: right;\n",
       "    }\n",
       "</style>\n",
       "<table border=\"1\" class=\"dataframe\">\n",
       "  <thead>\n",
       "    <tr style=\"text-align: right;\">\n",
       "      <th>age_group</th>\n",
       "      <th>adult</th>\n",
       "      <th>older</th>\n",
       "      <th>young</th>\n",
       "    </tr>\n",
       "    <tr>\n",
       "      <th>spender_flag</th>\n",
       "      <th></th>\n",
       "      <th></th>\n",
       "      <th></th>\n",
       "    </tr>\n",
       "  </thead>\n",
       "  <tbody>\n",
       "    <tr>\n",
       "      <th>High_spender</th>\n",
       "      <td>181830</td>\n",
       "      <td>259749</td>\n",
       "      <td>106813</td>\n",
       "    </tr>\n",
       "    <tr>\n",
       "      <th>Low_spender</th>\n",
       "      <td>9539138</td>\n",
       "      <td>14701317</td>\n",
       "      <td>6203163</td>\n",
       "    </tr>\n",
       "  </tbody>\n",
       "</table>\n",
       "</div>"
      ],
      "text/plain": [
       "age_group       adult     older    young\n",
       "spender_flag                            \n",
       "High_spender   181830    259749   106813\n",
       "Low_spender   9539138  14701317  6203163"
      ]
     },
     "execution_count": 47,
     "metadata": {},
     "output_type": "execute_result"
    }
   ],
   "source": [
    "# Crosstab spending with age group to Understand if age influences spending behavior\n",
    "spending_age_cross = pd.crosstab(df_excluded['spender_flag'], df_excluded['age_group'], dropna = False)\n",
    "spending_age_cross"
   ]
  },
  {
   "cell_type": "code",
   "execution_count": 48,
   "id": "08f02c0b",
   "metadata": {},
   "outputs": [
    {
     "data": {
      "text/plain": [
       "(array([0, 1]), [Text(0, 0, 'High_spender'), Text(1, 0, 'Low_spender')])"
      ]
     },
     "execution_count": 48,
     "metadata": {},
     "output_type": "execute_result"
    },
    {
     "data": {
      "image/png": "[encoded data removed]",
      "text/plain": [
       "<Figure size 432x288 with 1 Axes>"
      ]
     },
     "metadata": {
      "needs_background": "light"
     },
     "output_type": "display_data"
    }
   ],
   "source": [
    "# create a bar chart\n",
    "spending_age_bar = spending_age_cross.plot.bar(color=['black','lightgray','grey'])\n",
    "plt.title('Spending by Age Group')\n",
    "plt.xlabel('')\n",
    "plt.ylabel('count')\n",
    "plt.xticks(rotation=0)"
   ]
  },
  {
   "cell_type": "code",
   "execution_count": 49,
   "id": "9b8a9169",
   "metadata": {},
   "outputs": [],
   "source": [
    "# Export the bar chart\n",
    "spending_age_bar.figure.savefig(os.path.join(path, '04 Analysis','Visualizations', 'spending_age_bar.png'))"
   ]
  },
  {
   "cell_type": "markdown",
   "id": "56e544a4",
   "metadata": {},
   "source": [
    "### 5. Orders and Department"
   ]
  },
  {
   "cell_type": "code",
   "execution_count": 50,
   "id": "f072032f",
   "metadata": {},
   "outputs": [],
   "source": [
    "# Import departments dataframe\n",
    "dept = pd.read_csv(os.path.join(path, '02 Data', 'Prepared Data', 'departments_wrangled.csv'))"
   ]
  },
  {
   "cell_type": "code",
   "execution_count": 51,
   "id": "e714e19b",
   "metadata": {
    "scrolled": false
   },
   "outputs": [
    {
     "data": {
      "text/html": [
       "<div>\n",
       "<style scoped>\n",
       "    .dataframe tbody tr th:only-of-type {\n",
       "        vertical-align: middle;\n",
       "    }\n",
       "\n",
       "    .dataframe tbody tr th {\n",
       "        vertical-align: top;\n",
       "    }\n",
       "\n",
       "    .dataframe thead th {\n",
       "        text-align: right;\n",
       "    }\n",
       "</style>\n",
       "<table border=\"1\" class=\"dataframe\">\n",
       "  <thead>\n",
       "    <tr style=\"text-align: right;\">\n",
       "      <th></th>\n",
       "      <th>Unnamed: 0</th>\n",
       "      <th>department_id</th>\n",
       "      <th>department</th>\n",
       "    </tr>\n",
       "  </thead>\n",
       "  <tbody>\n",
       "    <tr>\n",
       "      <th>0</th>\n",
       "      <td>0</td>\n",
       "      <td>1</td>\n",
       "      <td>frozen</td>\n",
       "    </tr>\n",
       "    <tr>\n",
       "      <th>1</th>\n",
       "      <td>1</td>\n",
       "      <td>2</td>\n",
       "      <td>other</td>\n",
       "    </tr>\n",
       "    <tr>\n",
       "      <th>2</th>\n",
       "      <td>2</td>\n",
       "      <td>3</td>\n",
       "      <td>bakery</td>\n",
       "    </tr>\n",
       "    <tr>\n",
       "      <th>3</th>\n",
       "      <td>3</td>\n",
       "      <td>4</td>\n",
       "      <td>produce</td>\n",
       "    </tr>\n",
       "    <tr>\n",
       "      <th>4</th>\n",
       "      <td>4</td>\n",
       "      <td>5</td>\n",
       "      <td>alcohol</td>\n",
       "    </tr>\n",
       "    <tr>\n",
       "      <th>5</th>\n",
       "      <td>5</td>\n",
       "      <td>6</td>\n",
       "      <td>international</td>\n",
       "    </tr>\n",
       "    <tr>\n",
       "      <th>6</th>\n",
       "      <td>6</td>\n",
       "      <td>7</td>\n",
       "      <td>beverages</td>\n",
       "    </tr>\n",
       "    <tr>\n",
       "      <th>7</th>\n",
       "      <td>7</td>\n",
       "      <td>8</td>\n",
       "      <td>pets</td>\n",
       "    </tr>\n",
       "    <tr>\n",
       "      <th>8</th>\n",
       "      <td>8</td>\n",
       "      <td>9</td>\n",
       "      <td>dry goods pasta</td>\n",
       "    </tr>\n",
       "    <tr>\n",
       "      <th>9</th>\n",
       "      <td>9</td>\n",
       "      <td>10</td>\n",
       "      <td>bulk</td>\n",
       "    </tr>\n",
       "    <tr>\n",
       "      <th>10</th>\n",
       "      <td>10</td>\n",
       "      <td>11</td>\n",
       "      <td>personal care</td>\n",
       "    </tr>\n",
       "    <tr>\n",
       "      <th>11</th>\n",
       "      <td>11</td>\n",
       "      <td>12</td>\n",
       "      <td>meat seafood</td>\n",
       "    </tr>\n",
       "    <tr>\n",
       "      <th>12</th>\n",
       "      <td>12</td>\n",
       "      <td>13</td>\n",
       "      <td>pantry</td>\n",
       "    </tr>\n",
       "    <tr>\n",
       "      <th>13</th>\n",
       "      <td>13</td>\n",
       "      <td>14</td>\n",
       "      <td>breakfast</td>\n",
       "    </tr>\n",
       "    <tr>\n",
       "      <th>14</th>\n",
       "      <td>14</td>\n",
       "      <td>15</td>\n",
       "      <td>canned goods</td>\n",
       "    </tr>\n",
       "    <tr>\n",
       "      <th>15</th>\n",
       "      <td>15</td>\n",
       "      <td>16</td>\n",
       "      <td>dairy eggs</td>\n",
       "    </tr>\n",
       "    <tr>\n",
       "      <th>16</th>\n",
       "      <td>16</td>\n",
       "      <td>17</td>\n",
       "      <td>household</td>\n",
       "    </tr>\n",
       "    <tr>\n",
       "      <th>17</th>\n",
       "      <td>17</td>\n",
       "      <td>18</td>\n",
       "      <td>babies</td>\n",
       "    </tr>\n",
       "    <tr>\n",
       "      <th>18</th>\n",
       "      <td>18</td>\n",
       "      <td>19</td>\n",
       "      <td>snacks</td>\n",
       "    </tr>\n",
       "    <tr>\n",
       "      <th>19</th>\n",
       "      <td>19</td>\n",
       "      <td>20</td>\n",
       "      <td>deli</td>\n",
       "    </tr>\n",
       "    <tr>\n",
       "      <th>20</th>\n",
       "      <td>20</td>\n",
       "      <td>21</td>\n",
       "      <td>missing</td>\n",
       "    </tr>\n",
       "  </tbody>\n",
       "</table>\n",
       "</div>"
      ],
      "text/plain": [
       "    Unnamed: 0  department_id       department\n",
       "0            0              1           frozen\n",
       "1            1              2            other\n",
       "2            2              3           bakery\n",
       "3            3              4          produce\n",
       "4            4              5          alcohol\n",
       "5            5              6    international\n",
       "6            6              7        beverages\n",
       "7            7              8             pets\n",
       "8            8              9  dry goods pasta\n",
       "9            9             10             bulk\n",
       "10          10             11    personal care\n",
       "11          11             12     meat seafood\n",
       "12          12             13           pantry\n",
       "13          13             14        breakfast\n",
       "14          14             15     canned goods\n",
       "15          15             16       dairy eggs\n",
       "16          16             17        household\n",
       "17          17             18           babies\n",
       "18          18             19           snacks\n",
       "19          19             20             deli\n",
       "20          20             21          missing"
      ]
     },
     "execution_count": 51,
     "metadata": {},
     "output_type": "execute_result"
    }
   ],
   "source": [
    "dept"
   ]
  },
  {
   "cell_type": "code",
   "execution_count": 52,
   "id": "72915d40",
   "metadata": {
    "scrolled": true
   },
   "outputs": [
    {
     "data": {
      "text/plain": [
       "Index(['Unnamed: 0', 'department_id', 'department'], dtype='object')"
      ]
     },
     "execution_count": 52,
     "metadata": {},
     "output_type": "execute_result"
    }
   ],
   "source": [
    "dept.columns"
   ]
  },
  {
   "cell_type": "code",
   "execution_count": 53,
   "id": "d1563cfc",
   "metadata": {
    "scrolled": true
   },
   "outputs": [
    {
     "data": {
      "text/plain": [
       "Index(['order_id', 'user_id', 'eval_set', 'order_number', 'orders_day_of_week',\n",
       "       'order_hour_of_day', 'days_since_prior_order', 'product_id',\n",
       "       'add_to_cart_order', 'reordered', '_merge', 'product_name', 'aisle_id',\n",
       "       'department_id', 'prices', 'match', 'price_range_loc', 'busiest_day',\n",
       "       'busiest_days', 'busiest_period_of_day', 'max_order', 'loyalty_flag',\n",
       "       'average_spend', 'spender_flag', 'Customer_frequency', 'frequency_flag',\n",
       "       'First Name', 'Last Name', 'Gender', 'State', 'Age', 'Date Joined',\n",
       "       'Number of Dependents', 'Family Status', 'Income', 'region',\n",
       "       'activity_flag', 'age_group', 'income_ group', 'income_group',\n",
       "       'dependants_flag'],\n",
       "      dtype='object')"
      ]
     },
     "execution_count": 53,
     "metadata": {},
     "output_type": "execute_result"
    }
   ],
   "source": [
    "df_excluded.columns"
   ]
  },
  {
   "cell_type": "markdown",
   "id": "7ecbdc52",
   "metadata": {},
   "source": [
    "i tried to work on the intire data to merge the department data frame with the current data frame but i got this error\n",
    "MemoryError: Unable to allocate 3.93 GiB for an array with shape (17, 30992010) and data type object\n",
    "so i will create a subset of first million rows and working on it"
   ]
  },
  {
   "cell_type": "code",
   "execution_count": 54,
   "id": "2b417181",
   "metadata": {},
   "outputs": [],
   "source": [
    "# Create a subset of first million rows\n",
    "\n",
    "df =df_excluded[:1000000]"
   ]
  },
  {
   "cell_type": "code",
   "execution_count": 55,
   "id": "7c66fc38",
   "metadata": {},
   "outputs": [
    {
     "data": {
      "text/html": [
       "<div>\n",
       "<style scoped>\n",
       "    .dataframe tbody tr th:only-of-type {\n",
       "        vertical-align: middle;\n",
       "    }\n",
       "\n",
       "    .dataframe tbody tr th {\n",
       "        vertical-align: top;\n",
       "    }\n",
       "\n",
       "    .dataframe thead th {\n",
       "        text-align: right;\n",
       "    }\n",
       "</style>\n",
       "<table border=\"1\" class=\"dataframe\">\n",
       "  <thead>\n",
       "    <tr style=\"text-align: right;\">\n",
       "      <th></th>\n",
       "      <th>order_id</th>\n",
       "      <th>user_id</th>\n",
       "      <th>eval_set</th>\n",
       "      <th>order_number</th>\n",
       "      <th>orders_day_of_week</th>\n",
       "      <th>order_hour_of_day</th>\n",
       "      <th>days_since_prior_order</th>\n",
       "      <th>product_id</th>\n",
       "      <th>add_to_cart_order</th>\n",
       "      <th>reordered</th>\n",
       "      <th>...</th>\n",
       "      <th>Date Joined</th>\n",
       "      <th>Number of Dependents</th>\n",
       "      <th>Family Status</th>\n",
       "      <th>Income</th>\n",
       "      <th>region</th>\n",
       "      <th>activity_flag</th>\n",
       "      <th>age_group</th>\n",
       "      <th>income_ group</th>\n",
       "      <th>income_group</th>\n",
       "      <th>dependants_flag</th>\n",
       "    </tr>\n",
       "  </thead>\n",
       "  <tbody>\n",
       "    <tr>\n",
       "      <th>0</th>\n",
       "      <td>2539329</td>\n",
       "      <td>1</td>\n",
       "      <td>prior</td>\n",
       "      <td>1</td>\n",
       "      <td>2</td>\n",
       "      <td>8</td>\n",
       "      <td>NaN</td>\n",
       "      <td>196</td>\n",
       "      <td>1</td>\n",
       "      <td>0</td>\n",
       "      <td>...</td>\n",
       "      <td>2/17/2019</td>\n",
       "      <td>3</td>\n",
       "      <td>married</td>\n",
       "      <td>40423</td>\n",
       "      <td>South</td>\n",
       "      <td>high-activity customer</td>\n",
       "      <td>adult</td>\n",
       "      <td>NaN</td>\n",
       "      <td>middle-income</td>\n",
       "      <td>parent or has dependants</td>\n",
       "    </tr>\n",
       "    <tr>\n",
       "      <th>1</th>\n",
       "      <td>2398795</td>\n",
       "      <td>1</td>\n",
       "      <td>prior</td>\n",
       "      <td>2</td>\n",
       "      <td>3</td>\n",
       "      <td>7</td>\n",
       "      <td>15.0</td>\n",
       "      <td>196</td>\n",
       "      <td>1</td>\n",
       "      <td>1</td>\n",
       "      <td>...</td>\n",
       "      <td>2/17/2019</td>\n",
       "      <td>3</td>\n",
       "      <td>married</td>\n",
       "      <td>40423</td>\n",
       "      <td>South</td>\n",
       "      <td>high-activity customer</td>\n",
       "      <td>adult</td>\n",
       "      <td>NaN</td>\n",
       "      <td>middle-income</td>\n",
       "      <td>parent or has dependants</td>\n",
       "    </tr>\n",
       "    <tr>\n",
       "      <th>2</th>\n",
       "      <td>473747</td>\n",
       "      <td>1</td>\n",
       "      <td>prior</td>\n",
       "      <td>3</td>\n",
       "      <td>3</td>\n",
       "      <td>12</td>\n",
       "      <td>21.0</td>\n",
       "      <td>196</td>\n",
       "      <td>1</td>\n",
       "      <td>1</td>\n",
       "      <td>...</td>\n",
       "      <td>2/17/2019</td>\n",
       "      <td>3</td>\n",
       "      <td>married</td>\n",
       "      <td>40423</td>\n",
       "      <td>South</td>\n",
       "      <td>high-activity customer</td>\n",
       "      <td>adult</td>\n",
       "      <td>NaN</td>\n",
       "      <td>middle-income</td>\n",
       "      <td>parent or has dependants</td>\n",
       "    </tr>\n",
       "    <tr>\n",
       "      <th>3</th>\n",
       "      <td>2254736</td>\n",
       "      <td>1</td>\n",
       "      <td>prior</td>\n",
       "      <td>4</td>\n",
       "      <td>4</td>\n",
       "      <td>7</td>\n",
       "      <td>29.0</td>\n",
       "      <td>196</td>\n",
       "      <td>1</td>\n",
       "      <td>1</td>\n",
       "      <td>...</td>\n",
       "      <td>2/17/2019</td>\n",
       "      <td>3</td>\n",
       "      <td>married</td>\n",
       "      <td>40423</td>\n",
       "      <td>South</td>\n",
       "      <td>high-activity customer</td>\n",
       "      <td>adult</td>\n",
       "      <td>NaN</td>\n",
       "      <td>middle-income</td>\n",
       "      <td>parent or has dependants</td>\n",
       "    </tr>\n",
       "    <tr>\n",
       "      <th>4</th>\n",
       "      <td>431534</td>\n",
       "      <td>1</td>\n",
       "      <td>prior</td>\n",
       "      <td>5</td>\n",
       "      <td>4</td>\n",
       "      <td>15</td>\n",
       "      <td>28.0</td>\n",
       "      <td>196</td>\n",
       "      <td>1</td>\n",
       "      <td>1</td>\n",
       "      <td>...</td>\n",
       "      <td>2/17/2019</td>\n",
       "      <td>3</td>\n",
       "      <td>married</td>\n",
       "      <td>40423</td>\n",
       "      <td>South</td>\n",
       "      <td>high-activity customer</td>\n",
       "      <td>adult</td>\n",
       "      <td>NaN</td>\n",
       "      <td>middle-income</td>\n",
       "      <td>parent or has dependants</td>\n",
       "    </tr>\n",
       "    <tr>\n",
       "      <th>...</th>\n",
       "      <td>...</td>\n",
       "      <td>...</td>\n",
       "      <td>...</td>\n",
       "      <td>...</td>\n",
       "      <td>...</td>\n",
       "      <td>...</td>\n",
       "      <td>...</td>\n",
       "      <td>...</td>\n",
       "      <td>...</td>\n",
       "      <td>...</td>\n",
       "      <td>...</td>\n",
       "      <td>...</td>\n",
       "      <td>...</td>\n",
       "      <td>...</td>\n",
       "      <td>...</td>\n",
       "      <td>...</td>\n",
       "      <td>...</td>\n",
       "      <td>...</td>\n",
       "      <td>...</td>\n",
       "      <td>...</td>\n",
       "      <td>...</td>\n",
       "    </tr>\n",
       "    <tr>\n",
       "      <th>1020519</th>\n",
       "      <td>2768916</td>\n",
       "      <td>180765</td>\n",
       "      <td>prior</td>\n",
       "      <td>26</td>\n",
       "      <td>6</td>\n",
       "      <td>12</td>\n",
       "      <td>11.0</td>\n",
       "      <td>32573</td>\n",
       "      <td>5</td>\n",
       "      <td>0</td>\n",
       "      <td>...</td>\n",
       "      <td>9/3/2018</td>\n",
       "      <td>2</td>\n",
       "      <td>married</td>\n",
       "      <td>141376</td>\n",
       "      <td>West</td>\n",
       "      <td>high-activity customer</td>\n",
       "      <td>adult</td>\n",
       "      <td>NaN</td>\n",
       "      <td>high-income</td>\n",
       "      <td>parent or has dependants</td>\n",
       "    </tr>\n",
       "    <tr>\n",
       "      <th>1020520</th>\n",
       "      <td>398340</td>\n",
       "      <td>180765</td>\n",
       "      <td>prior</td>\n",
       "      <td>6</td>\n",
       "      <td>5</td>\n",
       "      <td>16</td>\n",
       "      <td>18.0</td>\n",
       "      <td>29141</td>\n",
       "      <td>2</td>\n",
       "      <td>0</td>\n",
       "      <td>...</td>\n",
       "      <td>9/3/2018</td>\n",
       "      <td>2</td>\n",
       "      <td>married</td>\n",
       "      <td>141376</td>\n",
       "      <td>West</td>\n",
       "      <td>high-activity customer</td>\n",
       "      <td>adult</td>\n",
       "      <td>NaN</td>\n",
       "      <td>high-income</td>\n",
       "      <td>parent or has dependants</td>\n",
       "    </tr>\n",
       "    <tr>\n",
       "      <th>1020521</th>\n",
       "      <td>403247</td>\n",
       "      <td>180765</td>\n",
       "      <td>prior</td>\n",
       "      <td>27</td>\n",
       "      <td>5</td>\n",
       "      <td>13</td>\n",
       "      <td>27.0</td>\n",
       "      <td>32175</td>\n",
       "      <td>7</td>\n",
       "      <td>0</td>\n",
       "      <td>...</td>\n",
       "      <td>9/3/2018</td>\n",
       "      <td>2</td>\n",
       "      <td>married</td>\n",
       "      <td>141376</td>\n",
       "      <td>West</td>\n",
       "      <td>high-activity customer</td>\n",
       "      <td>adult</td>\n",
       "      <td>NaN</td>\n",
       "      <td>high-income</td>\n",
       "      <td>parent or has dependants</td>\n",
       "    </tr>\n",
       "    <tr>\n",
       "      <th>1020522</th>\n",
       "      <td>1085516</td>\n",
       "      <td>180765</td>\n",
       "      <td>prior</td>\n",
       "      <td>1</td>\n",
       "      <td>6</td>\n",
       "      <td>21</td>\n",
       "      <td>NaN</td>\n",
       "      <td>33200</td>\n",
       "      <td>5</td>\n",
       "      <td>0</td>\n",
       "      <td>...</td>\n",
       "      <td>9/3/2018</td>\n",
       "      <td>2</td>\n",
       "      <td>married</td>\n",
       "      <td>141376</td>\n",
       "      <td>West</td>\n",
       "      <td>high-activity customer</td>\n",
       "      <td>adult</td>\n",
       "      <td>NaN</td>\n",
       "      <td>high-income</td>\n",
       "      <td>parent or has dependants</td>\n",
       "    </tr>\n",
       "    <tr>\n",
       "      <th>1020523</th>\n",
       "      <td>403247</td>\n",
       "      <td>180765</td>\n",
       "      <td>prior</td>\n",
       "      <td>27</td>\n",
       "      <td>5</td>\n",
       "      <td>13</td>\n",
       "      <td>27.0</td>\n",
       "      <td>46960</td>\n",
       "      <td>11</td>\n",
       "      <td>0</td>\n",
       "      <td>...</td>\n",
       "      <td>9/3/2018</td>\n",
       "      <td>2</td>\n",
       "      <td>married</td>\n",
       "      <td>141376</td>\n",
       "      <td>West</td>\n",
       "      <td>high-activity customer</td>\n",
       "      <td>adult</td>\n",
       "      <td>NaN</td>\n",
       "      <td>high-income</td>\n",
       "      <td>parent or has dependants</td>\n",
       "    </tr>\n",
       "  </tbody>\n",
       "</table>\n",
       "<p>1000000 rows × 41 columns</p>\n",
       "</div>"
      ],
      "text/plain": [
       "         order_id  user_id eval_set  order_number  orders_day_of_week  \\\n",
       "0         2539329        1    prior             1                   2   \n",
       "1         2398795        1    prior             2                   3   \n",
       "2          473747        1    prior             3                   3   \n",
       "3         2254736        1    prior             4                   4   \n",
       "4          431534        1    prior             5                   4   \n",
       "...           ...      ...      ...           ...                 ...   \n",
       "1020519   2768916   180765    prior            26                   6   \n",
       "1020520    398340   180765    prior             6                   5   \n",
       "1020521    403247   180765    prior            27                   5   \n",
       "1020522   1085516   180765    prior             1                   6   \n",
       "1020523    403247   180765    prior            27                   5   \n",
       "\n",
       "         order_hour_of_day  days_since_prior_order  product_id  \\\n",
       "0                        8                     NaN         196   \n",
       "1                        7                    15.0         196   \n",
       "2                       12                    21.0         196   \n",
       "3                        7                    29.0         196   \n",
       "4                       15                    28.0         196   \n",
       "...                    ...                     ...         ...   \n",
       "1020519                 12                    11.0       32573   \n",
       "1020520                 16                    18.0       29141   \n",
       "1020521                 13                    27.0       32175   \n",
       "1020522                 21                     NaN       33200   \n",
       "1020523                 13                    27.0       46960   \n",
       "\n",
       "         add_to_cart_order  reordered  ... Date Joined Number of Dependents  \\\n",
       "0                        1          0  ...   2/17/2019                    3   \n",
       "1                        1          1  ...   2/17/2019                    3   \n",
       "2                        1          1  ...   2/17/2019                    3   \n",
       "3                        1          1  ...   2/17/2019                    3   \n",
       "4                        1          1  ...   2/17/2019                    3   \n",
       "...                    ...        ...  ...         ...                  ...   \n",
       "1020519                  5          0  ...    9/3/2018                    2   \n",
       "1020520                  2          0  ...    9/3/2018                    2   \n",
       "1020521                  7          0  ...    9/3/2018                    2   \n",
       "1020522                  5          0  ...    9/3/2018                    2   \n",
       "1020523                 11          0  ...    9/3/2018                    2   \n",
       "\n",
       "         Family Status  Income  region           activity_flag age_group  \\\n",
       "0              married   40423   South  high-activity customer     adult   \n",
       "1              married   40423   South  high-activity customer     adult   \n",
       "2              married   40423   South  high-activity customer     adult   \n",
       "3              married   40423   South  high-activity customer     adult   \n",
       "4              married   40423   South  high-activity customer     adult   \n",
       "...                ...     ...     ...                     ...       ...   \n",
       "1020519        married  141376    West  high-activity customer     adult   \n",
       "1020520        married  141376    West  high-activity customer     adult   \n",
       "1020521        married  141376    West  high-activity customer     adult   \n",
       "1020522        married  141376    West  high-activity customer     adult   \n",
       "1020523        married  141376    West  high-activity customer     adult   \n",
       "\n",
       "        income_ group   income_group           dependants_flag  \n",
       "0                 NaN  middle-income  parent or has dependants  \n",
       "1                 NaN  middle-income  parent or has dependants  \n",
       "2                 NaN  middle-income  parent or has dependants  \n",
       "3                 NaN  middle-income  parent or has dependants  \n",
       "4                 NaN  middle-income  parent or has dependants  \n",
       "...               ...            ...                       ...  \n",
       "1020519           NaN    high-income  parent or has dependants  \n",
       "1020520           NaN    high-income  parent or has dependants  \n",
       "1020521           NaN    high-income  parent or has dependants  \n",
       "1020522           NaN    high-income  parent or has dependants  \n",
       "1020523           NaN    high-income  parent or has dependants  \n",
       "\n",
       "[1000000 rows x 41 columns]"
      ]
     },
     "execution_count": 55,
     "metadata": {},
     "output_type": "execute_result"
    }
   ],
   "source": [
    "df"
   ]
  },
  {
   "cell_type": "code",
   "execution_count": 56,
   "id": "581075f4",
   "metadata": {},
   "outputs": [],
   "source": [
    "df_final_merged = df.merge(dept, on='department_id', indicator='created')"
   ]
  },
  {
   "cell_type": "code",
   "execution_count": 57,
   "id": "e822b54b",
   "metadata": {},
   "outputs": [
    {
     "data": {
      "text/html": [
       "<div>\n",
       "<style scoped>\n",
       "    .dataframe tbody tr th:only-of-type {\n",
       "        vertical-align: middle;\n",
       "    }\n",
       "\n",
       "    .dataframe tbody tr th {\n",
       "        vertical-align: top;\n",
       "    }\n",
       "\n",
       "    .dataframe thead th {\n",
       "        text-align: right;\n",
       "    }\n",
       "</style>\n",
       "<table border=\"1\" class=\"dataframe\">\n",
       "  <thead>\n",
       "    <tr style=\"text-align: right;\">\n",
       "      <th></th>\n",
       "      <th>order_id</th>\n",
       "      <th>user_id</th>\n",
       "      <th>eval_set</th>\n",
       "      <th>order_number</th>\n",
       "      <th>orders_day_of_week</th>\n",
       "      <th>order_hour_of_day</th>\n",
       "      <th>days_since_prior_order</th>\n",
       "      <th>product_id</th>\n",
       "      <th>add_to_cart_order</th>\n",
       "      <th>reordered</th>\n",
       "      <th>...</th>\n",
       "      <th>Income</th>\n",
       "      <th>region</th>\n",
       "      <th>activity_flag</th>\n",
       "      <th>age_group</th>\n",
       "      <th>income_ group</th>\n",
       "      <th>income_group</th>\n",
       "      <th>dependants_flag</th>\n",
       "      <th>Unnamed: 0</th>\n",
       "      <th>department</th>\n",
       "      <th>created</th>\n",
       "    </tr>\n",
       "  </thead>\n",
       "  <tbody>\n",
       "    <tr>\n",
       "      <th>0</th>\n",
       "      <td>2539329</td>\n",
       "      <td>1</td>\n",
       "      <td>prior</td>\n",
       "      <td>1</td>\n",
       "      <td>2</td>\n",
       "      <td>8</td>\n",
       "      <td>NaN</td>\n",
       "      <td>196</td>\n",
       "      <td>1</td>\n",
       "      <td>0</td>\n",
       "      <td>...</td>\n",
       "      <td>40423</td>\n",
       "      <td>South</td>\n",
       "      <td>high-activity customer</td>\n",
       "      <td>adult</td>\n",
       "      <td>NaN</td>\n",
       "      <td>middle-income</td>\n",
       "      <td>parent or has dependants</td>\n",
       "      <td>6</td>\n",
       "      <td>beverages</td>\n",
       "      <td>both</td>\n",
       "    </tr>\n",
       "    <tr>\n",
       "      <th>1</th>\n",
       "      <td>2398795</td>\n",
       "      <td>1</td>\n",
       "      <td>prior</td>\n",
       "      <td>2</td>\n",
       "      <td>3</td>\n",
       "      <td>7</td>\n",
       "      <td>15.0</td>\n",
       "      <td>196</td>\n",
       "      <td>1</td>\n",
       "      <td>1</td>\n",
       "      <td>...</td>\n",
       "      <td>40423</td>\n",
       "      <td>South</td>\n",
       "      <td>high-activity customer</td>\n",
       "      <td>adult</td>\n",
       "      <td>NaN</td>\n",
       "      <td>middle-income</td>\n",
       "      <td>parent or has dependants</td>\n",
       "      <td>6</td>\n",
       "      <td>beverages</td>\n",
       "      <td>both</td>\n",
       "    </tr>\n",
       "    <tr>\n",
       "      <th>2</th>\n",
       "      <td>473747</td>\n",
       "      <td>1</td>\n",
       "      <td>prior</td>\n",
       "      <td>3</td>\n",
       "      <td>3</td>\n",
       "      <td>12</td>\n",
       "      <td>21.0</td>\n",
       "      <td>196</td>\n",
       "      <td>1</td>\n",
       "      <td>1</td>\n",
       "      <td>...</td>\n",
       "      <td>40423</td>\n",
       "      <td>South</td>\n",
       "      <td>high-activity customer</td>\n",
       "      <td>adult</td>\n",
       "      <td>NaN</td>\n",
       "      <td>middle-income</td>\n",
       "      <td>parent or has dependants</td>\n",
       "      <td>6</td>\n",
       "      <td>beverages</td>\n",
       "      <td>both</td>\n",
       "    </tr>\n",
       "    <tr>\n",
       "      <th>3</th>\n",
       "      <td>2254736</td>\n",
       "      <td>1</td>\n",
       "      <td>prior</td>\n",
       "      <td>4</td>\n",
       "      <td>4</td>\n",
       "      <td>7</td>\n",
       "      <td>29.0</td>\n",
       "      <td>196</td>\n",
       "      <td>1</td>\n",
       "      <td>1</td>\n",
       "      <td>...</td>\n",
       "      <td>40423</td>\n",
       "      <td>South</td>\n",
       "      <td>high-activity customer</td>\n",
       "      <td>adult</td>\n",
       "      <td>NaN</td>\n",
       "      <td>middle-income</td>\n",
       "      <td>parent or has dependants</td>\n",
       "      <td>6</td>\n",
       "      <td>beverages</td>\n",
       "      <td>both</td>\n",
       "    </tr>\n",
       "    <tr>\n",
       "      <th>4</th>\n",
       "      <td>431534</td>\n",
       "      <td>1</td>\n",
       "      <td>prior</td>\n",
       "      <td>5</td>\n",
       "      <td>4</td>\n",
       "      <td>15</td>\n",
       "      <td>28.0</td>\n",
       "      <td>196</td>\n",
       "      <td>1</td>\n",
       "      <td>1</td>\n",
       "      <td>...</td>\n",
       "      <td>40423</td>\n",
       "      <td>South</td>\n",
       "      <td>high-activity customer</td>\n",
       "      <td>adult</td>\n",
       "      <td>NaN</td>\n",
       "      <td>middle-income</td>\n",
       "      <td>parent or has dependants</td>\n",
       "      <td>6</td>\n",
       "      <td>beverages</td>\n",
       "      <td>both</td>\n",
       "    </tr>\n",
       "    <tr>\n",
       "      <th>...</th>\n",
       "      <td>...</td>\n",
       "      <td>...</td>\n",
       "      <td>...</td>\n",
       "      <td>...</td>\n",
       "      <td>...</td>\n",
       "      <td>...</td>\n",
       "      <td>...</td>\n",
       "      <td>...</td>\n",
       "      <td>...</td>\n",
       "      <td>...</td>\n",
       "      <td>...</td>\n",
       "      <td>...</td>\n",
       "      <td>...</td>\n",
       "      <td>...</td>\n",
       "      <td>...</td>\n",
       "      <td>...</td>\n",
       "      <td>...</td>\n",
       "      <td>...</td>\n",
       "      <td>...</td>\n",
       "      <td>...</td>\n",
       "      <td>...</td>\n",
       "    </tr>\n",
       "    <tr>\n",
       "      <th>999995</th>\n",
       "      <td>2145374</td>\n",
       "      <td>180115</td>\n",
       "      <td>prior</td>\n",
       "      <td>30</td>\n",
       "      <td>2</td>\n",
       "      <td>9</td>\n",
       "      <td>6.0</td>\n",
       "      <td>5161</td>\n",
       "      <td>2</td>\n",
       "      <td>1</td>\n",
       "      <td>...</td>\n",
       "      <td>41865</td>\n",
       "      <td>Northeast</td>\n",
       "      <td>high-activity customer</td>\n",
       "      <td>young</td>\n",
       "      <td>NaN</td>\n",
       "      <td>middle-income</td>\n",
       "      <td>parent or has dependants</td>\n",
       "      <td>9</td>\n",
       "      <td>bulk</td>\n",
       "      <td>both</td>\n",
       "    </tr>\n",
       "    <tr>\n",
       "      <th>999996</th>\n",
       "      <td>1357083</td>\n",
       "      <td>180115</td>\n",
       "      <td>prior</td>\n",
       "      <td>32</td>\n",
       "      <td>3</td>\n",
       "      <td>10</td>\n",
       "      <td>21.0</td>\n",
       "      <td>5161</td>\n",
       "      <td>5</td>\n",
       "      <td>1</td>\n",
       "      <td>...</td>\n",
       "      <td>41865</td>\n",
       "      <td>Northeast</td>\n",
       "      <td>high-activity customer</td>\n",
       "      <td>young</td>\n",
       "      <td>NaN</td>\n",
       "      <td>middle-income</td>\n",
       "      <td>parent or has dependants</td>\n",
       "      <td>9</td>\n",
       "      <td>bulk</td>\n",
       "      <td>both</td>\n",
       "    </tr>\n",
       "    <tr>\n",
       "      <th>999997</th>\n",
       "      <td>1417376</td>\n",
       "      <td>180115</td>\n",
       "      <td>prior</td>\n",
       "      <td>35</td>\n",
       "      <td>2</td>\n",
       "      <td>7</td>\n",
       "      <td>6.0</td>\n",
       "      <td>5161</td>\n",
       "      <td>5</td>\n",
       "      <td>1</td>\n",
       "      <td>...</td>\n",
       "      <td>41865</td>\n",
       "      <td>Northeast</td>\n",
       "      <td>high-activity customer</td>\n",
       "      <td>young</td>\n",
       "      <td>NaN</td>\n",
       "      <td>middle-income</td>\n",
       "      <td>parent or has dependants</td>\n",
       "      <td>9</td>\n",
       "      <td>bulk</td>\n",
       "      <td>both</td>\n",
       "    </tr>\n",
       "    <tr>\n",
       "      <th>999998</th>\n",
       "      <td>678507</td>\n",
       "      <td>180380</td>\n",
       "      <td>prior</td>\n",
       "      <td>4</td>\n",
       "      <td>0</td>\n",
       "      <td>20</td>\n",
       "      <td>6.0</td>\n",
       "      <td>5161</td>\n",
       "      <td>6</td>\n",
       "      <td>0</td>\n",
       "      <td>...</td>\n",
       "      <td>29620</td>\n",
       "      <td>South</td>\n",
       "      <td>high-activity customer</td>\n",
       "      <td>adult</td>\n",
       "      <td>low-income</td>\n",
       "      <td>NaN</td>\n",
       "      <td>parent or has dependants</td>\n",
       "      <td>9</td>\n",
       "      <td>bulk</td>\n",
       "      <td>both</td>\n",
       "    </tr>\n",
       "    <tr>\n",
       "      <th>999999</th>\n",
       "      <td>770340</td>\n",
       "      <td>180380</td>\n",
       "      <td>prior</td>\n",
       "      <td>9</td>\n",
       "      <td>1</td>\n",
       "      <td>15</td>\n",
       "      <td>5.0</td>\n",
       "      <td>5161</td>\n",
       "      <td>4</td>\n",
       "      <td>1</td>\n",
       "      <td>...</td>\n",
       "      <td>29620</td>\n",
       "      <td>South</td>\n",
       "      <td>high-activity customer</td>\n",
       "      <td>adult</td>\n",
       "      <td>low-income</td>\n",
       "      <td>NaN</td>\n",
       "      <td>parent or has dependants</td>\n",
       "      <td>9</td>\n",
       "      <td>bulk</td>\n",
       "      <td>both</td>\n",
       "    </tr>\n",
       "  </tbody>\n",
       "</table>\n",
       "<p>1000000 rows × 44 columns</p>\n",
       "</div>"
      ],
      "text/plain": [
       "        order_id  user_id eval_set  order_number  orders_day_of_week  \\\n",
       "0        2539329        1    prior             1                   2   \n",
       "1        2398795        1    prior             2                   3   \n",
       "2         473747        1    prior             3                   3   \n",
       "3        2254736        1    prior             4                   4   \n",
       "4         431534        1    prior             5                   4   \n",
       "...          ...      ...      ...           ...                 ...   \n",
       "999995   2145374   180115    prior            30                   2   \n",
       "999996   1357083   180115    prior            32                   3   \n",
       "999997   1417376   180115    prior            35                   2   \n",
       "999998    678507   180380    prior             4                   0   \n",
       "999999    770340   180380    prior             9                   1   \n",
       "\n",
       "        order_hour_of_day  days_since_prior_order  product_id  \\\n",
       "0                       8                     NaN         196   \n",
       "1                       7                    15.0         196   \n",
       "2                      12                    21.0         196   \n",
       "3                       7                    29.0         196   \n",
       "4                      15                    28.0         196   \n",
       "...                   ...                     ...         ...   \n",
       "999995                  9                     6.0        5161   \n",
       "999996                 10                    21.0        5161   \n",
       "999997                  7                     6.0        5161   \n",
       "999998                 20                     6.0        5161   \n",
       "999999                 15                     5.0        5161   \n",
       "\n",
       "        add_to_cart_order  reordered  ... Income     region  \\\n",
       "0                       1          0  ...  40423      South   \n",
       "1                       1          1  ...  40423      South   \n",
       "2                       1          1  ...  40423      South   \n",
       "3                       1          1  ...  40423      South   \n",
       "4                       1          1  ...  40423      South   \n",
       "...                   ...        ...  ...    ...        ...   \n",
       "999995                  2          1  ...  41865  Northeast   \n",
       "999996                  5          1  ...  41865  Northeast   \n",
       "999997                  5          1  ...  41865  Northeast   \n",
       "999998                  6          0  ...  29620      South   \n",
       "999999                  4          1  ...  29620      South   \n",
       "\n",
       "                 activity_flag  age_group  income_ group   income_group  \\\n",
       "0       high-activity customer      adult            NaN  middle-income   \n",
       "1       high-activity customer      adult            NaN  middle-income   \n",
       "2       high-activity customer      adult            NaN  middle-income   \n",
       "3       high-activity customer      adult            NaN  middle-income   \n",
       "4       high-activity customer      adult            NaN  middle-income   \n",
       "...                        ...        ...            ...            ...   \n",
       "999995  high-activity customer      young            NaN  middle-income   \n",
       "999996  high-activity customer      young            NaN  middle-income   \n",
       "999997  high-activity customer      young            NaN  middle-income   \n",
       "999998  high-activity customer      adult     low-income            NaN   \n",
       "999999  high-activity customer      adult     low-income            NaN   \n",
       "\n",
       "                 dependants_flag Unnamed: 0 department created  \n",
       "0       parent or has dependants          6  beverages    both  \n",
       "1       parent or has dependants          6  beverages    both  \n",
       "2       parent or has dependants          6  beverages    both  \n",
       "3       parent or has dependants          6  beverages    both  \n",
       "4       parent or has dependants          6  beverages    both  \n",
       "...                          ...        ...        ...     ...  \n",
       "999995  parent or has dependants          9       bulk    both  \n",
       "999996  parent or has dependants          9       bulk    both  \n",
       "999997  parent or has dependants          9       bulk    both  \n",
       "999998  parent or has dependants          9       bulk    both  \n",
       "999999  parent or has dependants          9       bulk    both  \n",
       "\n",
       "[1000000 rows x 44 columns]"
      ]
     },
     "execution_count": 57,
     "metadata": {},
     "output_type": "execute_result"
    }
   ],
   "source": [
    "df_final_merged"
   ]
  },
  {
   "cell_type": "code",
   "execution_count": 58,
   "id": "6fb7de95",
   "metadata": {},
   "outputs": [],
   "source": [
    "# Exporting new dataframe with department merged \n",
    "df_final_merged.to_pickle(os.path.join(path,'02 Data','Prepared Data','orders_products_customers_departments.pkl'))"
   ]
  },
  {
   "cell_type": "code",
   "execution_count": 59,
   "id": "3624a2a9",
   "metadata": {},
   "outputs": [
    {
     "data": {
      "image/png": "[encoded data removed]",
      "text/plain": [
       "<Figure size 432x288 with 1 Axes>"
      ]
     },
     "metadata": {
      "needs_background": "light"
     },
     "output_type": "display_data"
    }
   ],
   "source": [
    "# bar chart frequency of orders and department\n",
    "depts_bar = df_final_merged['department'].value_counts(ascending=True).plot(kind='barh', color='gray', xlabel = 'Count', title='Products Ordered by Department')"
   ]
  },
  {
   "cell_type": "code",
   "execution_count": 60,
   "id": "f327c15b",
   "metadata": {},
   "outputs": [],
   "source": [
    "# Export bar chart\n",
    "depts_bar.figure.savefig(os.path.join(path, '04 Analysis','Visualizations', 'ords_depts_bar.png'))"
   ]
  },
  {
   "cell_type": "markdown",
   "id": "acf127a7",
   "metadata": {},
   "source": [
    "### 6.  Income and Department"
   ]
  },
  {
   "cell_type": "code",
   "execution_count": 61,
   "id": "53c2a97b",
   "metadata": {},
   "outputs": [
    {
     "data": {
      "text/html": [
       "<div>\n",
       "<style scoped>\n",
       "    .dataframe tbody tr th:only-of-type {\n",
       "        vertical-align: middle;\n",
       "    }\n",
       "\n",
       "    .dataframe tbody tr th {\n",
       "        vertical-align: top;\n",
       "    }\n",
       "\n",
       "    .dataframe thead th {\n",
       "        text-align: right;\n",
       "    }\n",
       "</style>\n",
       "<table border=\"1\" class=\"dataframe\">\n",
       "  <thead>\n",
       "    <tr style=\"text-align: right;\">\n",
       "      <th>department</th>\n",
       "      <th>alcohol</th>\n",
       "      <th>babies</th>\n",
       "      <th>bakery</th>\n",
       "      <th>beverages</th>\n",
       "      <th>breakfast</th>\n",
       "      <th>bulk</th>\n",
       "      <th>canned goods</th>\n",
       "      <th>dairy eggs</th>\n",
       "      <th>deli</th>\n",
       "      <th>dry goods pasta</th>\n",
       "      <th>...</th>\n",
       "      <th>household</th>\n",
       "      <th>international</th>\n",
       "      <th>meat seafood</th>\n",
       "      <th>missing</th>\n",
       "      <th>other</th>\n",
       "      <th>pantry</th>\n",
       "      <th>personal care</th>\n",
       "      <th>pets</th>\n",
       "      <th>produce</th>\n",
       "      <th>snacks</th>\n",
       "    </tr>\n",
       "    <tr>\n",
       "      <th>income_group</th>\n",
       "      <th></th>\n",
       "      <th></th>\n",
       "      <th></th>\n",
       "      <th></th>\n",
       "      <th></th>\n",
       "      <th></th>\n",
       "      <th></th>\n",
       "      <th></th>\n",
       "      <th></th>\n",
       "      <th></th>\n",
       "      <th></th>\n",
       "      <th></th>\n",
       "      <th></th>\n",
       "      <th></th>\n",
       "      <th></th>\n",
       "      <th></th>\n",
       "      <th></th>\n",
       "      <th></th>\n",
       "      <th></th>\n",
       "      <th></th>\n",
       "      <th></th>\n",
       "    </tr>\n",
       "  </thead>\n",
       "  <tbody>\n",
       "    <tr>\n",
       "      <th>high-income</th>\n",
       "      <td>8775</td>\n",
       "      <td>4089</td>\n",
       "      <td>23257</td>\n",
       "      <td>84173</td>\n",
       "      <td>15582</td>\n",
       "      <td>369</td>\n",
       "      <td>15627</td>\n",
       "      <td>73249</td>\n",
       "      <td>11900</td>\n",
       "      <td>13217</td>\n",
       "      <td>...</td>\n",
       "      <td>22462</td>\n",
       "      <td>3404</td>\n",
       "      <td>11846</td>\n",
       "      <td>771</td>\n",
       "      <td>916</td>\n",
       "      <td>33317</td>\n",
       "      <td>9657</td>\n",
       "      <td>3468</td>\n",
       "      <td>99395</td>\n",
       "      <td>55757</td>\n",
       "    </tr>\n",
       "    <tr>\n",
       "      <th>middle-income</th>\n",
       "      <td>4224</td>\n",
       "      <td>1877</td>\n",
       "      <td>12960</td>\n",
       "      <td>59457</td>\n",
       "      <td>11221</td>\n",
       "      <td>531</td>\n",
       "      <td>7322</td>\n",
       "      <td>45822</td>\n",
       "      <td>7234</td>\n",
       "      <td>6064</td>\n",
       "      <td>...</td>\n",
       "      <td>11762</td>\n",
       "      <td>1689</td>\n",
       "      <td>4898</td>\n",
       "      <td>474</td>\n",
       "      <td>465</td>\n",
       "      <td>17780</td>\n",
       "      <td>4703</td>\n",
       "      <td>1444</td>\n",
       "      <td>68691</td>\n",
       "      <td>58456</td>\n",
       "    </tr>\n",
       "  </tbody>\n",
       "</table>\n",
       "<p>2 rows × 21 columns</p>\n",
       "</div>"
      ],
      "text/plain": [
       "department     alcohol  babies  bakery  beverages  breakfast  bulk  \\\n",
       "income_group                                                         \n",
       "high-income       8775    4089   23257      84173      15582   369   \n",
       "middle-income     4224    1877   12960      59457      11221   531   \n",
       "\n",
       "department     canned goods  dairy eggs   deli  dry goods pasta  ...  \\\n",
       "income_group                                                     ...   \n",
       "high-income           15627       73249  11900            13217  ...   \n",
       "middle-income          7322       45822   7234             6064  ...   \n",
       "\n",
       "department     household  international  meat seafood  missing  other  pantry  \\\n",
       "income_group                                                                    \n",
       "high-income        22462           3404         11846      771    916   33317   \n",
       "middle-income      11762           1689          4898      474    465   17780   \n",
       "\n",
       "department     personal care  pets  produce  snacks  \n",
       "income_group                                         \n",
       "high-income             9657  3468    99395   55757  \n",
       "middle-income           4703  1444    68691   58456  \n",
       "\n",
       "[2 rows x 21 columns]"
      ]
     },
     "execution_count": 61,
     "metadata": {},
     "output_type": "execute_result"
    }
   ],
   "source": [
    "# crosstab income group vs department\n",
    "income_dept_cross = pd.crosstab(df_final_merged['income_group'], df_final_merged['department'], dropna = False)\n",
    "income_dept_cross"
   ]
  },
  {
   "cell_type": "code",
   "execution_count": 62,
   "id": "f070c5a7",
   "metadata": {},
   "outputs": [
    {
     "data": {
      "text/plain": [
       "<matplotlib.legend.Legend at 0x28862a1e880>"
      ]
     },
     "execution_count": 62,
     "metadata": {},
     "output_type": "execute_result"
    },
    {
     "data": {
      "image/png": "[encoded data removed]",
      "text/plain": [
       "<Figure size 1008x720 with 1 Axes>"
      ]
     },
     "metadata": {
      "needs_background": "light"
     },
     "output_type": "display_data"
    }
   ],
   "source": [
    "# creating a bar chart\n",
    "income_dept_bar = income_dept_cross.plot(kind = 'barh', figsize=(14,10))\n",
    "plt.title('Department Sales by Income Group')\n",
    "plt.xlabel('products count')\n",
    "plt.ylabel('income group')\n",
    "# Move legend outside of plot\n",
    "plt.legend(title='Department', bbox_to_anchor=(1.05, 1), loc='upper left', fontsize=12, title_fontsize=14)"
   ]
  },
  {
   "cell_type": "code",
   "execution_count": 63,
   "id": "1585a357",
   "metadata": {},
   "outputs": [],
   "source": [
    "# Export bar chart\n",
    "income_dept_bar.figure.savefig(os.path.join(path, '04 Analysis','Visualizations', 'income_depts_bar.png'))"
   ]
  },
  {
   "cell_type": "markdown",
   "id": "e268886f",
   "metadata": {},
   "source": [
    "### 7.  Age and Department"
   ]
  },
  {
   "cell_type": "code",
   "execution_count": 64,
   "id": "15b907ed",
   "metadata": {},
   "outputs": [
    {
     "data": {
      "text/html": [
       "<div>\n",
       "<style scoped>\n",
       "    .dataframe tbody tr th:only-of-type {\n",
       "        vertical-align: middle;\n",
       "    }\n",
       "\n",
       "    .dataframe tbody tr th {\n",
       "        vertical-align: top;\n",
       "    }\n",
       "\n",
       "    .dataframe thead th {\n",
       "        text-align: right;\n",
       "    }\n",
       "</style>\n",
       "<table border=\"1\" class=\"dataframe\">\n",
       "  <thead>\n",
       "    <tr style=\"text-align: right;\">\n",
       "      <th>department</th>\n",
       "      <th>alcohol</th>\n",
       "      <th>babies</th>\n",
       "      <th>bakery</th>\n",
       "      <th>beverages</th>\n",
       "      <th>breakfast</th>\n",
       "      <th>bulk</th>\n",
       "      <th>canned goods</th>\n",
       "      <th>dairy eggs</th>\n",
       "      <th>deli</th>\n",
       "      <th>dry goods pasta</th>\n",
       "      <th>...</th>\n",
       "      <th>household</th>\n",
       "      <th>international</th>\n",
       "      <th>meat seafood</th>\n",
       "      <th>missing</th>\n",
       "      <th>other</th>\n",
       "      <th>pantry</th>\n",
       "      <th>personal care</th>\n",
       "      <th>pets</th>\n",
       "      <th>produce</th>\n",
       "      <th>snacks</th>\n",
       "    </tr>\n",
       "    <tr>\n",
       "      <th>age_group</th>\n",
       "      <th></th>\n",
       "      <th></th>\n",
       "      <th></th>\n",
       "      <th></th>\n",
       "      <th></th>\n",
       "      <th></th>\n",
       "      <th></th>\n",
       "      <th></th>\n",
       "      <th></th>\n",
       "      <th></th>\n",
       "      <th></th>\n",
       "      <th></th>\n",
       "      <th></th>\n",
       "      <th></th>\n",
       "      <th></th>\n",
       "      <th></th>\n",
       "      <th></th>\n",
       "      <th></th>\n",
       "      <th></th>\n",
       "      <th></th>\n",
       "      <th></th>\n",
       "    </tr>\n",
       "  </thead>\n",
       "  <tbody>\n",
       "    <tr>\n",
       "      <th>adult</th>\n",
       "      <td>4498</td>\n",
       "      <td>1592</td>\n",
       "      <td>11462</td>\n",
       "      <td>49353</td>\n",
       "      <td>9383</td>\n",
       "      <td>330</td>\n",
       "      <td>7315</td>\n",
       "      <td>38781</td>\n",
       "      <td>6318</td>\n",
       "      <td>5952</td>\n",
       "      <td>...</td>\n",
       "      <td>10986</td>\n",
       "      <td>1738</td>\n",
       "      <td>5567</td>\n",
       "      <td>436</td>\n",
       "      <td>414</td>\n",
       "      <td>16521</td>\n",
       "      <td>4276</td>\n",
       "      <td>1442</td>\n",
       "      <td>56113</td>\n",
       "      <td>42338</td>\n",
       "    </tr>\n",
       "    <tr>\n",
       "      <th>older</th>\n",
       "      <td>6600</td>\n",
       "      <td>2733</td>\n",
       "      <td>19397</td>\n",
       "      <td>83867</td>\n",
       "      <td>15462</td>\n",
       "      <td>606</td>\n",
       "      <td>11760</td>\n",
       "      <td>64223</td>\n",
       "      <td>10133</td>\n",
       "      <td>9908</td>\n",
       "      <td>...</td>\n",
       "      <td>18219</td>\n",
       "      <td>2500</td>\n",
       "      <td>8226</td>\n",
       "      <td>689</td>\n",
       "      <td>758</td>\n",
       "      <td>27287</td>\n",
       "      <td>7656</td>\n",
       "      <td>2587</td>\n",
       "      <td>96889</td>\n",
       "      <td>71577</td>\n",
       "    </tr>\n",
       "    <tr>\n",
       "      <th>young</th>\n",
       "      <td>2966</td>\n",
       "      <td>1691</td>\n",
       "      <td>9074</td>\n",
       "      <td>34827</td>\n",
       "      <td>6879</td>\n",
       "      <td>298</td>\n",
       "      <td>5064</td>\n",
       "      <td>29612</td>\n",
       "      <td>5036</td>\n",
       "      <td>4242</td>\n",
       "      <td>...</td>\n",
       "      <td>7955</td>\n",
       "      <td>1195</td>\n",
       "      <td>3486</td>\n",
       "      <td>242</td>\n",
       "      <td>342</td>\n",
       "      <td>11847</td>\n",
       "      <td>3182</td>\n",
       "      <td>1027</td>\n",
       "      <td>40547</td>\n",
       "      <td>33002</td>\n",
       "    </tr>\n",
       "  </tbody>\n",
       "</table>\n",
       "<p>3 rows × 21 columns</p>\n",
       "</div>"
      ],
      "text/plain": [
       "department  alcohol  babies  bakery  beverages  breakfast  bulk  canned goods  \\\n",
       "age_group                                                                       \n",
       "adult          4498    1592   11462      49353       9383   330          7315   \n",
       "older          6600    2733   19397      83867      15462   606         11760   \n",
       "young          2966    1691    9074      34827       6879   298          5064   \n",
       "\n",
       "department  dairy eggs   deli  dry goods pasta  ...  household  international  \\\n",
       "age_group                                       ...                             \n",
       "adult            38781   6318             5952  ...      10986           1738   \n",
       "older            64223  10133             9908  ...      18219           2500   \n",
       "young            29612   5036             4242  ...       7955           1195   \n",
       "\n",
       "department  meat seafood  missing  other  pantry  personal care  pets  \\\n",
       "age_group                                                               \n",
       "adult               5567      436    414   16521           4276  1442   \n",
       "older               8226      689    758   27287           7656  2587   \n",
       "young               3486      242    342   11847           3182  1027   \n",
       "\n",
       "department  produce  snacks  \n",
       "age_group                    \n",
       "adult         56113   42338  \n",
       "older         96889   71577  \n",
       "young         40547   33002  \n",
       "\n",
       "[3 rows x 21 columns]"
      ]
     },
     "execution_count": 64,
     "metadata": {},
     "output_type": "execute_result"
    }
   ],
   "source": [
    "# crosstab age group vs department\n",
    "age_dept_cross = pd.crosstab(df_final_merged['age_group'], df_final_merged['department'], dropna = False)\n",
    "age_dept_cross"
   ]
  },
  {
   "cell_type": "code",
   "execution_count": 65,
   "id": "8d91048a",
   "metadata": {},
   "outputs": [
    {
     "data": {
      "text/plain": [
       "<matplotlib.legend.Legend at 0x2886240d3d0>"
      ]
     },
     "execution_count": 65,
     "metadata": {},
     "output_type": "execute_result"
    },
    {
     "data": {
      "image/png": "[encoded data removed]",
      "text/plain": [
       "<Figure size 1008x720 with 1 Axes>"
      ]
     },
     "metadata": {
      "needs_background": "light"
     },
     "output_type": "display_data"
    }
   ],
   "source": [
    "# bar chart\n",
    "age_dept_bar = age_dept_cross.plot(kind = 'barh', figsize=(14,10))\n",
    "plt.title('Department Sales by Age Group')\n",
    "plt.xlabel('products count')\n",
    "plt.ylabel('age group')\n",
    "# Move legend outside of plot\n",
    "plt.legend(title='Department', bbox_to_anchor=(1.05, 1), loc='upper left', fontsize=12, title_fontsize=14)"
   ]
  },
  {
   "cell_type": "code",
   "execution_count": 66,
   "id": "545c2353",
   "metadata": {},
   "outputs": [],
   "source": [
    "# Export bar chart\n",
    "age_dept_bar.figure.savefig(os.path.join(path, '04 Analysis','Visualizations', 'age_depts_bar.png'))"
   ]
  },
  {
   "cell_type": "markdown",
   "id": "01c59d80",
   "metadata": {},
   "source": [
    "### Q8. Compare your customer profiles with regions and departments. Can you identify a link between them? Customers may demonstrate different behaviors across regions, which could make this information important."
   ]
  },
  {
   "cell_type": "code",
   "execution_count": 67,
   "id": "3dd89d85",
   "metadata": {},
   "outputs": [],
   "source": [
    "# import orders_products_customers\n",
    "df = pd.read_pickle(os.path.join(path, '02 Data', 'Prepared Data', 'orders_products_customers_departments.pkl'))"
   ]
  },
  {
   "cell_type": "code",
   "execution_count": 68,
   "id": "cb37accc",
   "metadata": {},
   "outputs": [
    {
     "data": {
      "text/plain": [
       "Text(0.5, 0, '')"
      ]
     },
     "execution_count": 68,
     "metadata": {},
     "output_type": "execute_result"
    },
    {
     "data": {
      "image/png": "[encoded data removed]",
      "text/plain": [
       "<Figure size 432x288 with 1 Axes>"
      ]
     },
     "metadata": {
      "needs_background": "light"
     },
     "output_type": "display_data"
    }
   ],
   "source": [
    "# bar chart orders by day of week\n",
    "orders_dow_bar = df['orders_day_of_week'].value_counts().sort_index().plot.bar(color = 'gray')\n",
    "orders_dow_bar.set_title('Orders by Day of Week')\n",
    "orders_dow_bar.set_xticklabels(['Saturday', 'Sunday', 'Monday', 'Tuesday', 'Wednesday', 'Thursday', 'Friday'], rotation=0)\n",
    "orders_dow_bar.set_xlabel(\"\")"
   ]
  },
  {
   "cell_type": "code",
   "execution_count": 69,
   "id": "ba953863",
   "metadata": {},
   "outputs": [],
   "source": [
    "# Export bar chart\n",
    "orders_dow_bar.figure.savefig(os.path.join(path, '04 Analysis','Visualizations', 'orders_dow_bar.png'))"
   ]
  },
  {
   "cell_type": "code",
   "execution_count": 70,
   "id": "8f967336",
   "metadata": {},
   "outputs": [
    {
     "data": {
      "text/plain": [
       "Text(0.5, 0, 'Hour of Day (24 hr clock)')"
      ]
     },
     "execution_count": 70,
     "metadata": {},
     "output_type": "execute_result"
    },
    {
     "data": {
      "image/png": "[encoded data removed]",
      "text/plain": [
       "<Figure size 432x288 with 1 Axes>"
      ]
     },
     "metadata": {
      "needs_background": "light"
     },
     "output_type": "display_data"
    }
   ],
   "source": [
    "# histogram of hours of the day\n",
    "hod_hist=df['order_hour_of_day'].plot.hist(bins = 24)\n",
    "plt.title('Orders by Hour of Day')\n",
    "plt.xlabel('Hour of Day (24 hr clock)')"
   ]
  },
  {
   "cell_type": "code",
   "execution_count": 71,
   "id": "3e26ec32",
   "metadata": {},
   "outputs": [],
   "source": [
    "# Export histogram\n",
    "hod_hist.figure.savefig(os.path.join(path, '04 Analysis','Visualizations', 'hod_hist.png'))"
   ]
  },
  {
   "cell_type": "code",
   "execution_count": 72,
   "id": "3e735fc6",
   "metadata": {},
   "outputs": [
    {
     "data": {
      "text/html": [
       "<div>\n",
       "<style scoped>\n",
       "    .dataframe tbody tr th:only-of-type {\n",
       "        vertical-align: middle;\n",
       "    }\n",
       "\n",
       "    .dataframe tbody tr th {\n",
       "        vertical-align: top;\n",
       "    }\n",
       "\n",
       "    .dataframe thead th {\n",
       "        text-align: right;\n",
       "    }\n",
       "</style>\n",
       "<table border=\"1\" class=\"dataframe\">\n",
       "  <thead>\n",
       "    <tr style=\"text-align: right;\">\n",
       "      <th>income_group</th>\n",
       "      <th>high-income</th>\n",
       "      <th>middle-income</th>\n",
       "    </tr>\n",
       "    <tr>\n",
       "      <th>loyalty_flag</th>\n",
       "      <th></th>\n",
       "      <th></th>\n",
       "    </tr>\n",
       "  </thead>\n",
       "  <tbody>\n",
       "    <tr>\n",
       "      <th>Loyal customer</th>\n",
       "      <td>204442</td>\n",
       "      <td>142203</td>\n",
       "    </tr>\n",
       "    <tr>\n",
       "      <th>New customer</th>\n",
       "      <td>57482</td>\n",
       "      <td>35649</td>\n",
       "    </tr>\n",
       "    <tr>\n",
       "      <th>Regular customer</th>\n",
       "      <td>267940</td>\n",
       "      <td>168507</td>\n",
       "    </tr>\n",
       "  </tbody>\n",
       "</table>\n",
       "</div>"
      ],
      "text/plain": [
       "income_group      high-income  middle-income\n",
       "loyalty_flag                                \n",
       "Loyal customer         204442         142203\n",
       "New customer            57482          35649\n",
       "Regular customer       267940         168507"
      ]
     },
     "execution_count": 72,
     "metadata": {},
     "output_type": "execute_result"
    }
   ],
   "source": [
    "# Crosstab loyalty with age group\n",
    "loyalty_income_cross = pd.crosstab(df['loyalty_flag'], df['income_group'], dropna = False)\n",
    "loyalty_income_cross"
   ]
  },
  {
   "cell_type": "code",
   "execution_count": 73,
   "id": "2babb888",
   "metadata": {},
   "outputs": [
    {
     "data": {
      "text/plain": [
       "(array([0, 1, 2]),\n",
       " [Text(0, 0, 'Loyal customer'),\n",
       "  Text(1, 0, 'New customer'),\n",
       "  Text(2, 0, 'Regular customer')])"
      ]
     },
     "execution_count": 73,
     "metadata": {},
     "output_type": "execute_result"
    },
    {
     "data": {
      "image/png": "[encoded data removed]",
      "text/plain": [
       "<Figure size 432x288 with 1 Axes>"
      ]
     },
     "metadata": {
      "needs_background": "light"
     },
     "output_type": "display_data"
    }
   ],
   "source": [
    "# bar chart\n",
    "loyalty_income_bar = loyalty_income_cross.plot.bar(color=['black','lightgray','grey'])\n",
    "plt.title('Loyalty by Income Group')\n",
    "plt.xlabel('')\n",
    "plt.ylabel('count')\n",
    "plt.xticks(rotation=0)"
   ]
  },
  {
   "cell_type": "code",
   "execution_count": 74,
   "id": "4fb21681",
   "metadata": {},
   "outputs": [],
   "source": [
    "# Export the chart\n",
    "loyalty_income_bar.figure.savefig(os.path.join(path, '04 Analysis','Visualizations', 'loyalty_income_group_bar.png'))"
   ]
  },
  {
   "cell_type": "code",
   "execution_count": 75,
   "id": "1441800a",
   "metadata": {},
   "outputs": [
    {
     "data": {
      "text/html": [
       "<div>\n",
       "<style scoped>\n",
       "    .dataframe tbody tr th:only-of-type {\n",
       "        vertical-align: middle;\n",
       "    }\n",
       "\n",
       "    .dataframe tbody tr th {\n",
       "        vertical-align: top;\n",
       "    }\n",
       "\n",
       "    .dataframe thead th {\n",
       "        text-align: right;\n",
       "    }\n",
       "</style>\n",
       "<table border=\"1\" class=\"dataframe\">\n",
       "  <thead>\n",
       "    <tr style=\"text-align: right;\">\n",
       "      <th>Family Status</th>\n",
       "      <th>divorced/widowed</th>\n",
       "      <th>living with parents and siblings</th>\n",
       "      <th>married</th>\n",
       "      <th>single</th>\n",
       "    </tr>\n",
       "    <tr>\n",
       "      <th>loyalty_flag</th>\n",
       "      <th></th>\n",
       "      <th></th>\n",
       "      <th></th>\n",
       "      <th></th>\n",
       "    </tr>\n",
       "  </thead>\n",
       "  <tbody>\n",
       "    <tr>\n",
       "      <th>Loyal customer</th>\n",
       "      <td>40706</td>\n",
       "      <td>18123</td>\n",
       "      <td>277665</td>\n",
       "      <td>64467</td>\n",
       "    </tr>\n",
       "    <tr>\n",
       "      <th>New customer</th>\n",
       "      <td>8838</td>\n",
       "      <td>4529</td>\n",
       "      <td>73345</td>\n",
       "      <td>17547</td>\n",
       "    </tr>\n",
       "    <tr>\n",
       "      <th>Regular customer</th>\n",
       "      <td>41083</td>\n",
       "      <td>26073</td>\n",
       "      <td>353129</td>\n",
       "      <td>74495</td>\n",
       "    </tr>\n",
       "  </tbody>\n",
       "</table>\n",
       "</div>"
      ],
      "text/plain": [
       "Family Status     divorced/widowed  living with parents and siblings  married  \\\n",
       "loyalty_flag                                                                    \n",
       "Loyal customer               40706                             18123   277665   \n",
       "New customer                  8838                              4529    73345   \n",
       "Regular customer             41083                             26073   353129   \n",
       "\n",
       "Family Status     single  \n",
       "loyalty_flag              \n",
       "Loyal customer     64467  \n",
       "New customer       17547  \n",
       "Regular customer   74495  "
      ]
     },
     "execution_count": 75,
     "metadata": {},
     "output_type": "execute_result"
    }
   ],
   "source": [
    "# Crosstab loyalty with family status\n",
    "loyalty_fam_cross = pd.crosstab(df['loyalty_flag'], df['Family Status'], dropna = False)\n",
    "loyalty_fam_cross"
   ]
  },
  {
   "cell_type": "code",
   "execution_count": 76,
   "id": "ad0d50e5",
   "metadata": {},
   "outputs": [
    {
     "data": {
      "text/plain": [
       "(array([0, 1, 2]),\n",
       " [Text(0, 0, 'Loyal customer'),\n",
       "  Text(1, 0, 'New customer'),\n",
       "  Text(2, 0, 'Regular customer')])"
      ]
     },
     "execution_count": 76,
     "metadata": {},
     "output_type": "execute_result"
    },
    {
     "data": {
      "image/png": "[encoded data removed]",
      "text/plain": [
       "<Figure size 432x288 with 1 Axes>"
      ]
     },
     "metadata": {
      "needs_background": "light"
     },
     "output_type": "display_data"
    }
   ],
   "source": [
    "# bar chart\n",
    "loyalty_fam_bar = loyalty_fam_cross.plot.bar(color=['black','lightgray','grey'])\n",
    "plt.title('Loyalty by Family Status')\n",
    "plt.xlabel('')\n",
    "plt.ylabel('count')\n",
    "plt.xticks(rotation=0)"
   ]
  },
  {
   "cell_type": "code",
   "execution_count": 77,
   "id": "89880200",
   "metadata": {},
   "outputs": [],
   "source": [
    "# Export the chart\n",
    "loyalty_fam_bar.figure.savefig(os.path.join(path, '04 Analysis','Visualizations', 'loyalty_fam_bar.png'))"
   ]
  },
  {
   "cell_type": "code",
   "execution_count": 78,
   "id": "127b4fb7",
   "metadata": {},
   "outputs": [
    {
     "data": {
      "text/html": [
       "<div>\n",
       "<style scoped>\n",
       "    .dataframe tbody tr th:only-of-type {\n",
       "        vertical-align: middle;\n",
       "    }\n",
       "\n",
       "    .dataframe tbody tr th {\n",
       "        vertical-align: top;\n",
       "    }\n",
       "\n",
       "    .dataframe thead th {\n",
       "        text-align: right;\n",
       "    }\n",
       "</style>\n",
       "<table border=\"1\" class=\"dataframe\">\n",
       "  <thead>\n",
       "    <tr style=\"text-align: right;\">\n",
       "      <th>dependants_flag</th>\n",
       "      <th>parent or has dependants</th>\n",
       "      <th>single</th>\n",
       "    </tr>\n",
       "    <tr>\n",
       "      <th>loyalty_flag</th>\n",
       "      <th></th>\n",
       "      <th></th>\n",
       "    </tr>\n",
       "  </thead>\n",
       "  <tbody>\n",
       "    <tr>\n",
       "      <th>Loyal customer</th>\n",
       "      <td>295788</td>\n",
       "      <td>105173</td>\n",
       "    </tr>\n",
       "    <tr>\n",
       "      <th>New customer</th>\n",
       "      <td>77874</td>\n",
       "      <td>26385</td>\n",
       "    </tr>\n",
       "    <tr>\n",
       "      <th>Regular customer</th>\n",
       "      <td>379202</td>\n",
       "      <td>115578</td>\n",
       "    </tr>\n",
       "  </tbody>\n",
       "</table>\n",
       "</div>"
      ],
      "text/plain": [
       "dependants_flag   parent or has dependants  single\n",
       "loyalty_flag                                      \n",
       "Loyal customer                      295788  105173\n",
       "New customer                         77874   26385\n",
       "Regular customer                    379202  115578"
      ]
     },
     "execution_count": 78,
     "metadata": {},
     "output_type": "execute_result"
    }
   ],
   "source": [
    "# Crosstab loyalty with dependants\n",
    "loyalty_depend_cross = pd.crosstab(df['loyalty_flag'], df['dependants_flag'], dropna = False)\n",
    "loyalty_depend_cross"
   ]
  },
  {
   "cell_type": "code",
   "execution_count": 79,
   "id": "e4bd33d7",
   "metadata": {},
   "outputs": [
    {
     "data": {
      "text/plain": [
       "(array([0, 1, 2]),\n",
       " [Text(0, 0, 'Loyal customer'),\n",
       "  Text(1, 0, 'New customer'),\n",
       "  Text(2, 0, 'Regular customer')])"
      ]
     },
     "execution_count": 79,
     "metadata": {},
     "output_type": "execute_result"
    },
    {
     "data": {
      "image/png": "[encoded data removed]",
      "text/plain": [
       "<Figure size 432x288 with 1 Axes>"
      ]
     },
     "metadata": {
      "needs_background": "light"
     },
     "output_type": "display_data"
    }
   ],
   "source": [
    "# bar chart\n",
    "loyalty_depend_bar = loyalty_depend_cross.plot.bar(color=['black','lightgray','grey'])\n",
    "plt.title('Loyalty by Dependants Status')\n",
    "plt.xlabel('')\n",
    "plt.ylabel('count')\n",
    "plt.xticks(rotation=0)"
   ]
  },
  {
   "cell_type": "code",
   "execution_count": 80,
   "id": "936c0a0d",
   "metadata": {},
   "outputs": [],
   "source": [
    "# Export the chart\n",
    "loyalty_depend_bar.figure.savefig(os.path.join(path, '04 Analysis','Visualizations', 'loyalty_depend_bar.png'))"
   ]
  }
 ],
 "metadata": {
  "kernelspec": {
   "display_name": "Python 3 (ipykernel)",
   "language": "python",
   "name": "python3"
  },
  "language_info": {
   "codemirror_mode": {
    "name": "ipython",
    "version": 3
   },
   "file_extension": ".py",
   "mimetype": "text/x-python",
   "name": "python",
   "nbconvert_exporter": "python",
   "pygments_lexer": "ipython3",
   "version": "3.9.12"
  }
 },
 "nbformat": 4,
 "nbformat_minor": 5
}
