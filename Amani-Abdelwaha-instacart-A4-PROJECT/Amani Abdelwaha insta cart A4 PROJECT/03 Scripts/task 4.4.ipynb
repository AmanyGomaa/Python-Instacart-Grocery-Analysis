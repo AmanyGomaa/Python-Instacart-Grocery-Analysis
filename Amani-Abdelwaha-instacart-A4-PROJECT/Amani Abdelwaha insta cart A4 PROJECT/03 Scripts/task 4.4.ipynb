{
 "cells": [
  {
   "cell_type": "code",
   "execution_count": 1,
   "id": "e9beef0f",
   "metadata": {},
   "outputs": [],
   "source": [
    "#importing libraries\n",
    "import pandas as pd\n",
    "import numpy as np\n",
    "import os"
   ]
  },
  {
   "cell_type": "markdown",
   "id": "a20b82b8",
   "metadata": {},
   "source": [
    "## Importing data"
   ]
  },
  {
   "cell_type": "code",
   "execution_count": 2,
   "id": "95c3b137",
   "metadata": {},
   "outputs": [],
   "source": [
    "# Load dataframes \n",
    "path = r'C:\\Users\\amany\\A4-Instacart Basket Analysis'\n",
    "df = pd.read_csv(r'C:\\Users\\amany\\A4-Instacart Basket Analysis\\02 Data\\original data\\orders.csv', index_col=False)\n",
    "path = r'C:\\Users\\amany\\A4-Instacart Basket Analysis'\n",
    "df_ords = pd.read_csv(r'C:\\Users\\amany\\A4-Instacart Basket Analysis\\02 Data\\original data\\orders.csv')\n",
    "df_dep_t_new = pd.read_csv(r'C:\\Users\\amany\\A4-Instacart Basket Analysis\\02 Data\\original data\\departments.csv')\n",
    "df_deps = pd.read_csv(r'C:\\Users\\amany\\A4-Instacart Basket Analysis\\02 Data\\original data\\departments.csv')\n",
    "df_prods = pd.read_csv(os.path.join(path, '02 Data', 'Original data', 'products.csv'), index_col = False)\n"
   ]
  },
  {
   "cell_type": "markdown",
   "id": "b2fe90e0",
   "metadata": {},
   "source": [
    "## Wrangling Procedures\n"
   ]
  },
  {
   "cell_type": "code",
   "execution_count": 3,
   "id": "605d518c",
   "metadata": {},
   "outputs": [],
   "source": [
    "df_ords['order_id'] = df_ords['order_id'].astype(str)\n"
   ]
  },
  {
   "cell_type": "code",
   "execution_count": 4,
   "id": "eb5fb0be",
   "metadata": {},
   "outputs": [],
   "source": [
    "df_ords = df_ords.rename(columns={'eval_set': 'order_type'})\n"
   ]
  },
  {
   "cell_type": "code",
   "execution_count": 5,
   "id": "779e1f18",
   "metadata": {},
   "outputs": [
    {
     "name": "stdout",
     "output_type": "stream",
     "text": [
      "The busiest hour for placing orders is 10, with 288418 orders.\n"
     ]
    }
   ],
   "source": [
    "#question 4\n",
    "#what the busiest hour is for placing orders. \n",
    "busiest_hour = df_ords['order_hour_of_day'].value_counts().idxmax()\n",
    "busiest_hour_freq = df_ords['order_hour_of_day'].value_counts().max()\n",
    "print(f\"The busiest hour for placing orders is {busiest_hour}, with {busiest_hour_freq} orders.\")\n"
   ]
  },
  {
   "cell_type": "code",
   "execution_count": 6,
   "id": "4781a12b",
   "metadata": {},
   "outputs": [
    {
     "data": {
      "text/plain": [
       "<bound method NDFrame.head of     department_id       department\n",
       "0               1           frozen\n",
       "1               2            other\n",
       "2               3           bakery\n",
       "3               4          produce\n",
       "4               5          alcohol\n",
       "5               6    international\n",
       "6               7        beverages\n",
       "7               8             pets\n",
       "8               9  dry goods pasta\n",
       "9              10             bulk\n",
       "10             11    personal care\n",
       "11             12     meat seafood\n",
       "12             13           pantry\n",
       "13             14        breakfast\n",
       "14             15     canned goods\n",
       "15             16       dairy eggs\n",
       "16             17        household\n",
       "17             18           babies\n",
       "18             19           snacks\n",
       "19             20             deli\n",
       "20             21          missing>"
      ]
     },
     "execution_count": 6,
     "metadata": {},
     "output_type": "execute_result"
    }
   ],
   "source": [
    "df_deps.head"
   ]
  },
  {
   "cell_type": "code",
   "execution_count": 7,
   "id": "c81ba132",
   "metadata": {},
   "outputs": [
    {
     "data": {
      "text/html": [
       "<div>\n",
       "<style scoped>\n",
       "    .dataframe tbody tr th:only-of-type {\n",
       "        vertical-align: middle;\n",
       "    }\n",
       "\n",
       "    .dataframe tbody tr th {\n",
       "        vertical-align: top;\n",
       "    }\n",
       "\n",
       "    .dataframe thead th {\n",
       "        text-align: right;\n",
       "    }\n",
       "</style>\n",
       "<table border=\"1\" class=\"dataframe\">\n",
       "  <thead>\n",
       "    <tr style=\"text-align: right;\">\n",
       "      <th></th>\n",
       "      <th>department_id</th>\n",
       "      <th>department</th>\n",
       "    </tr>\n",
       "  </thead>\n",
       "  <tbody>\n",
       "    <tr>\n",
       "      <th>3</th>\n",
       "      <td>4</td>\n",
       "      <td>produce</td>\n",
       "    </tr>\n",
       "  </tbody>\n",
       "</table>\n",
       "</div>"
      ],
      "text/plain": [
       "   department_id department\n",
       "3              4    produce"
      ]
     },
     "execution_count": 7,
     "metadata": {},
     "output_type": "execute_result"
    }
   ],
   "source": [
    "#question 5\n",
    "#Determine the meaning behind a value of 4 in the \"department_id\" column within \n",
    "#the df_prods dataframe using a data dictionary.  \n",
    "filtered_df = df_deps[df_deps['department_id'] == 4]\n",
    "filtered_df"
   ]
  },
  {
   "cell_type": "code",
   "execution_count": 8,
   "id": "482e13d8",
   "metadata": {},
   "outputs": [
    {
     "name": "stdout",
     "output_type": "stream",
     "text": [
      "Index(['product_id', 'product_name', 'aisle_id', 'department_id', 'prices'], dtype='object')\n",
      "   product_id                                       product_name  aisle_id  \\\n",
      "0           1                         Chocolate Sandwich Cookies        61   \n",
      "1           2                                   All-Seasons Salt       104   \n",
      "2           3               Robust Golden Unsweetened Oolong Tea        94   \n",
      "3           4  Smart Ones Classic Favorites Mini Rigatoni Wit...        38   \n",
      "4           5                          Green Chile Anytime Sauce         5   \n",
      "\n",
      "   department_id  prices  \n",
      "0             19     5.8  \n",
      "1             13     9.3  \n",
      "2              7     4.5  \n",
      "3              1    10.5  \n",
      "4             13     4.3  \n"
     ]
    }
   ],
   "source": [
    "print(df_prods.columns)  \n",
    "print(df_prods.head())  "
   ]
  },
  {
   "cell_type": "markdown",
   "id": "3f534a51",
   "metadata": {},
   "source": [
    "### about breakfast item sales. Create a subset containing only the required information.\n"
   ]
  },
  {
   "cell_type": "code",
   "execution_count": 9,
   "id": "ba4d6df2",
   "metadata": {},
   "outputs": [
    {
     "name": "stdout",
     "output_type": "stream",
     "text": [
      "[19 13  7  1 11 16 17 18 12  9  8 14 15  4 21  6 20  5  3  2 10]\n"
     ]
    }
   ],
   "source": [
    "#question 6\n",
    "# about breakfast item sales. Create a subset containing only the required information.\n",
    "print(df_prods['department_id'].unique())\n"
   ]
  },
  {
   "cell_type": "code",
   "execution_count": 10,
   "id": "37d43d4d",
   "metadata": {},
   "outputs": [
    {
     "name": "stdout",
     "output_type": "stream",
     "text": [
      "     product_id                                      product_name  \\\n",
      "27           28                                 Wheat Chex Cereal   \n",
      "33           34                                               NaN   \n",
      "67           68                           Pancake Mix, Buttermilk   \n",
      "89           90                                      Smorz Cereal   \n",
      "210         211  Gluten Free Organic Cereal Coconut Maple Vanilla   \n",
      "\n",
      "     department_id  \n",
      "27              14  \n",
      "33              14  \n",
      "67              14  \n",
      "89              14  \n",
      "210             14  \n",
      "Number of breakfast products: 1116\n"
     ]
    }
   ],
   "source": [
    "#question 6\n",
    "#consider breakfast id is 14\n",
    "breakfast_products = df_prods[df_prods['department_id'] == 14]\n",
    "print(breakfast_products[['product_id', 'product_name', 'department_id']].head())\n",
    "print(f\"Number of breakfast products: {len(breakfast_products)}\")\n"
   ]
  },
  {
   "cell_type": "markdown",
   "id": "1f0def77",
   "metadata": {},
   "source": [
    "#### Define the department IDs for Alcohol, Deli, Beverages, and Meat/Seafood\n"
   ]
  },
  {
   "cell_type": "code",
   "execution_count": 11,
   "id": "a0a0b54c",
   "metadata": {},
   "outputs": [
    {
     "name": "stdout",
     "output_type": "stream",
     "text": [
      "   product_id                          product_name  department_id\n",
      "0           1            Chocolate Sandwich Cookies             19\n",
      "1           2                      All-Seasons Salt             13\n",
      "2           3  Robust Golden Unsweetened Oolong Tea              7\n",
      "4           5             Green Chile Anytime Sauce             13\n",
      "6           7        Pure Coconut Water With Orange              7\n",
      "Number of party-related products: 19085\n"
     ]
    }
   ],
   "source": [
    "#question 7\n",
    "# Define the department IDs for Alcohol, Deli, Beverages, and Meat/Seafood\n",
    "target_depts = [19, 13, 7, 17]\n",
    "party_products = df_prods[df_prods['department_id'].isin(target_depts)]\n",
    "print(party_products[['product_id', 'product_name', 'department_id']].head())\n",
    "print(f\"Number of party-related products: {len(party_products)}\")\n"
   ]
  },
  {
   "cell_type": "markdown",
   "id": "2a7def77",
   "metadata": {},
   "source": [
    "#### Extract all the information you can about user with id 1.\n"
   ]
  },
  {
   "cell_type": "code",
   "execution_count": 12,
   "id": "27aa2920",
   "metadata": {},
   "outputs": [
    {
     "name": "stdout",
     "output_type": "stream",
     "text": [
      "  order_id  user_id order_type  order_number  order_dow  order_hour_of_day  \\\n",
      "0  2539329        1      prior             1          2                  8   \n",
      "1  2398795        1      prior             2          3                  7   \n",
      "2   473747        1      prior             3          3                 12   \n",
      "3  2254736        1      prior             4          4                  7   \n",
      "4   431534        1      prior             5          4                 15   \n",
      "\n",
      "   days_since_prior_order  \n",
      "0                     NaN  \n",
      "1                    15.0  \n",
      "2                    21.0  \n",
      "3                    29.0  \n",
      "4                    28.0  \n",
      "Number of orders for user 1: 11\n"
     ]
    }
   ],
   "source": [
    "#question 9\n",
    "# Extract all the information you can about user with id 1.\n",
    "user_1_info = df_ords[df_ords['user_id'] == 1]\n",
    "print(user_1_info.head())\n",
    "print(f\"Number of orders for user 1: {len(user_1_info)}\")\n"
   ]
  },
  {
   "cell_type": "markdown",
   "id": "c47028c2",
   "metadata": {},
   "source": [
    "### some details about this user’s behavior\n"
   ]
  },
  {
   "cell_type": "code",
   "execution_count": 13,
   "id": "1a188c43",
   "metadata": {},
   "outputs": [
    {
     "name": "stdout",
     "output_type": "stream",
     "text": [
      "Most frequent day of the week for orders: 4\n",
      "Average order hour: 10.090909090909092\n",
      "Average days between orders: 19.0\n"
     ]
    }
   ],
   "source": [
    "#question 10 \n",
    "#some details about this user’s behavior\n",
    "most_frequent_day = user_1_info['order_dow'].mode()[0]\n",
    "avg_order_hour = user_1_info['order_hour_of_day'].mean()\n",
    "avg_days_between_orders = user_1_info['days_since_prior_order'].mean()\n",
    "print(f\"Most frequent day of the week for orders: {most_frequent_day}\")\n",
    "print(f\"Average order hour: {avg_order_hour}\")\n",
    "print(f\"Average days between orders: {avg_days_between_orders}\")\n"
   ]
  },
  {
   "cell_type": "markdown",
   "id": "181b9c8d",
   "metadata": {},
   "source": [
    "### #How many rows does the last dataframe you created have?\n"
   ]
  },
  {
   "cell_type": "code",
   "execution_count": 14,
   "id": "1ebdd07a",
   "metadata": {},
   "outputs": [
    {
     "name": "stdout",
     "output_type": "stream",
     "text": [
      "Number of party-related products: 19085\n"
     ]
    }
   ],
   "source": [
    "#question 8\n",
    "#How many rows does the last dataframe you created have?\n",
    "print(f\"Number of party-related products: {len(party_products)}\")\n"
   ]
  },
  {
   "cell_type": "code",
   "execution_count": 17,
   "id": "3420430b",
   "metadata": {},
   "outputs": [],
   "source": [
    "#export orders data frame\n",
    "path = r'C:\\Users\\amany\\A4-Instacart Basket Analysis'\n",
    "df_ords.to_csv(os.path.join(path, '02 Data','Prepared Data', 'orders_wrangled.csv'))"
   ]
  },
  {
   "cell_type": "code",
   "execution_count": 16,
   "id": "f32b6ce9",
   "metadata": {},
   "outputs": [],
   "source": [
    "#export departments data frame\n",
    "df_dep_t_new.to_csv(os.path.join(path, '02 Data','Prepared Data', 'departments_wrangled.csv'))"
   ]
  }
 ],
 "metadata": {
  "kernelspec": {
   "display_name": "Python 3 (ipykernel)",
   "language": "python",
   "name": "python3"
  },
  "language_info": {
   "codemirror_mode": {
    "name": "ipython",
    "version": 3
   },
   "file_extension": ".py",
   "mimetype": "text/x-python",
   "name": "python",
   "nbconvert_exporter": "python",
   "pygments_lexer": "ipython3",
   "version": "3.9.12"
  }
 },
 "nbformat": 4,
 "nbformat_minor": 5
}
